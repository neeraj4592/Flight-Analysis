{
 "cells": [
  {
   "cell_type": "markdown",
   "metadata": {},
   "source": [
    "# American Domestic Flights' Analysis"
   ]
  },
  {
   "cell_type": "markdown",
   "metadata": {},
   "source": [
    "## Dataset - Bureau of Transportation Statistics (year 2015)"
   ]
  },
  {
   "cell_type": "code",
   "execution_count": 1,
   "metadata": {
    "collapsed": true
   },
   "outputs": [],
   "source": [
    "import pandas as pd"
   ]
  },
  {
   "cell_type": "markdown",
   "metadata": {},
   "source": [
    "### Collect dataset in different dataframes according to the .csv files (monthly)"
   ]
  },
  {
   "cell_type": "code",
   "execution_count": 2,
   "metadata": {
    "collapsed": true
   },
   "outputs": [],
   "source": [
    "df_jan = pd.read_csv(\"monthData/january.csv\")"
   ]
  },
  {
   "cell_type": "code",
   "execution_count": 3,
   "metadata": {
    "collapsed": true
   },
   "outputs": [],
   "source": [
    "df_feb = pd.read_csv(\"monthData/february.csv\")\n",
    "df_mar = pd.read_csv(\"monthData/march.csv\")\n",
    "df_apr = pd.read_csv(\"monthData/april.csv\")"
   ]
  },
  {
   "cell_type": "code",
   "execution_count": 4,
   "metadata": {
    "collapsed": true
   },
   "outputs": [],
   "source": [
    "df_may = pd.read_csv(\"monthData/may.csv\")\n",
    "df_jun = pd.read_csv(\"monthData/june.csv\")\n",
    "df_jul = pd.read_csv(\"monthData/july.csv\")"
   ]
  },
  {
   "cell_type": "code",
   "execution_count": 5,
   "metadata": {
    "collapsed": true
   },
   "outputs": [],
   "source": [
    "df_aug = pd.read_csv(\"monthData/august.csv\")\n",
    "df_sep = pd.read_csv(\"monthData/september.csv\")\n",
    "df_oct = pd.read_csv(\"monthData/october.csv\")"
   ]
  },
  {
   "cell_type": "code",
   "execution_count": 6,
   "metadata": {
    "collapsed": true
   },
   "outputs": [],
   "source": [
    "df_nov = pd.read_csv(\"monthData/november.csv\")\n",
    "df_dec = pd.read_csv(\"monthData/december.csv\")"
   ]
  },
  {
   "cell_type": "code",
   "execution_count": 7,
   "metadata": {
    "collapsed": false,
    "scrolled": false
   },
   "outputs": [
    {
     "data": {
      "text/html": [
       "<div>\n",
       "<table border=\"1\" class=\"dataframe\">\n",
       "  <thead>\n",
       "    <tr style=\"text-align: right;\">\n",
       "      <th></th>\n",
       "      <th>YEAR</th>\n",
       "      <th>MONTH</th>\n",
       "      <th>DAY_OF_MONTH</th>\n",
       "      <th>DAY_OF_WEEK</th>\n",
       "      <th>CARRIER</th>\n",
       "      <th>FL_NUM</th>\n",
       "      <th>ORIGIN</th>\n",
       "      <th>DEST</th>\n",
       "      <th>DEP_TIME</th>\n",
       "      <th>DEP_DELAY</th>\n",
       "      <th>ARR_TIME</th>\n",
       "      <th>ARR_DELAY</th>\n",
       "      <th>CANCELLED</th>\n",
       "      <th>CANCELLATION_CODE</th>\n",
       "      <th>AIR_TIME</th>\n",
       "      <th>DISTANCE</th>\n",
       "      <th>Unnamed: 16</th>\n",
       "    </tr>\n",
       "  </thead>\n",
       "  <tbody>\n",
       "    <tr>\n",
       "      <th>0</th>\n",
       "      <td>2015</td>\n",
       "      <td>1</td>\n",
       "      <td>1</td>\n",
       "      <td>4</td>\n",
       "      <td>AA</td>\n",
       "      <td>1</td>\n",
       "      <td>JFK</td>\n",
       "      <td>LAX</td>\n",
       "      <td>855.0</td>\n",
       "      <td>-5.0</td>\n",
       "      <td>1237.0</td>\n",
       "      <td>7.0</td>\n",
       "      <td>0.0</td>\n",
       "      <td>NaN</td>\n",
       "      <td>378.0</td>\n",
       "      <td>2475.0</td>\n",
       "      <td>NaN</td>\n",
       "    </tr>\n",
       "    <tr>\n",
       "      <th>1</th>\n",
       "      <td>2015</td>\n",
       "      <td>1</td>\n",
       "      <td>2</td>\n",
       "      <td>5</td>\n",
       "      <td>AA</td>\n",
       "      <td>1</td>\n",
       "      <td>JFK</td>\n",
       "      <td>LAX</td>\n",
       "      <td>850.0</td>\n",
       "      <td>-10.0</td>\n",
       "      <td>1211.0</td>\n",
       "      <td>-19.0</td>\n",
       "      <td>0.0</td>\n",
       "      <td>NaN</td>\n",
       "      <td>357.0</td>\n",
       "      <td>2475.0</td>\n",
       "      <td>NaN</td>\n",
       "    </tr>\n",
       "    <tr>\n",
       "      <th>2</th>\n",
       "      <td>2015</td>\n",
       "      <td>1</td>\n",
       "      <td>3</td>\n",
       "      <td>6</td>\n",
       "      <td>AA</td>\n",
       "      <td>1</td>\n",
       "      <td>JFK</td>\n",
       "      <td>LAX</td>\n",
       "      <td>853.0</td>\n",
       "      <td>-7.0</td>\n",
       "      <td>1151.0</td>\n",
       "      <td>-39.0</td>\n",
       "      <td>0.0</td>\n",
       "      <td>NaN</td>\n",
       "      <td>330.0</td>\n",
       "      <td>2475.0</td>\n",
       "      <td>NaN</td>\n",
       "    </tr>\n",
       "    <tr>\n",
       "      <th>3</th>\n",
       "      <td>2015</td>\n",
       "      <td>1</td>\n",
       "      <td>4</td>\n",
       "      <td>7</td>\n",
       "      <td>AA</td>\n",
       "      <td>1</td>\n",
       "      <td>JFK</td>\n",
       "      <td>LAX</td>\n",
       "      <td>853.0</td>\n",
       "      <td>-7.0</td>\n",
       "      <td>1218.0</td>\n",
       "      <td>-12.0</td>\n",
       "      <td>0.0</td>\n",
       "      <td>NaN</td>\n",
       "      <td>352.0</td>\n",
       "      <td>2475.0</td>\n",
       "      <td>NaN</td>\n",
       "    </tr>\n",
       "    <tr>\n",
       "      <th>4</th>\n",
       "      <td>2015</td>\n",
       "      <td>1</td>\n",
       "      <td>5</td>\n",
       "      <td>1</td>\n",
       "      <td>AA</td>\n",
       "      <td>1</td>\n",
       "      <td>JFK</td>\n",
       "      <td>LAX</td>\n",
       "      <td>853.0</td>\n",
       "      <td>-7.0</td>\n",
       "      <td>1222.0</td>\n",
       "      <td>-8.0</td>\n",
       "      <td>0.0</td>\n",
       "      <td>NaN</td>\n",
       "      <td>338.0</td>\n",
       "      <td>2475.0</td>\n",
       "      <td>NaN</td>\n",
       "    </tr>\n",
       "  </tbody>\n",
       "</table>\n",
       "</div>"
      ],
      "text/plain": [
       "   YEAR  MONTH  DAY_OF_MONTH  DAY_OF_WEEK CARRIER  FL_NUM ORIGIN DEST  \\\n",
       "0  2015      1             1            4      AA       1    JFK  LAX   \n",
       "1  2015      1             2            5      AA       1    JFK  LAX   \n",
       "2  2015      1             3            6      AA       1    JFK  LAX   \n",
       "3  2015      1             4            7      AA       1    JFK  LAX   \n",
       "4  2015      1             5            1      AA       1    JFK  LAX   \n",
       "\n",
       "   DEP_TIME  DEP_DELAY  ARR_TIME  ARR_DELAY  CANCELLED CANCELLATION_CODE  \\\n",
       "0     855.0       -5.0    1237.0        7.0        0.0               NaN   \n",
       "1     850.0      -10.0    1211.0      -19.0        0.0               NaN   \n",
       "2     853.0       -7.0    1151.0      -39.0        0.0               NaN   \n",
       "3     853.0       -7.0    1218.0      -12.0        0.0               NaN   \n",
       "4     853.0       -7.0    1222.0       -8.0        0.0               NaN   \n",
       "\n",
       "   AIR_TIME  DISTANCE  Unnamed: 16  \n",
       "0     378.0    2475.0          NaN  \n",
       "1     357.0    2475.0          NaN  \n",
       "2     330.0    2475.0          NaN  \n",
       "3     352.0    2475.0          NaN  \n",
       "4     338.0    2475.0          NaN  "
      ]
     },
     "execution_count": 7,
     "metadata": {},
     "output_type": "execute_result"
    }
   ],
   "source": [
    "df_jan.head()"
   ]
  },
  {
   "cell_type": "markdown",
   "metadata": {},
   "source": [
    "## Preparing csv for hive data --"
   ]
  },
  {
   "cell_type": "code",
   "execution_count": 8,
   "metadata": {
    "collapsed": false
   },
   "outputs": [
    {
     "data": {
      "text/plain": [
       "(5819079, 17)"
      ]
     },
     "execution_count": 8,
     "metadata": {},
     "output_type": "execute_result"
    }
   ],
   "source": [
    "df_allData = pd.concat([df_jan,df_feb,df_mar,df_apr,df_may,df_jun,df_jul,df_aug, df_sep,df_oct,df_nov,df_dec], ignore_index=True)\n",
    "\n",
    "df_allData.shape"
   ]
  },
  {
   "cell_type": "code",
   "execution_count": 66,
   "metadata": {
    "collapsed": false,
    "scrolled": true
   },
   "outputs": [
    {
     "data": {
      "text/html": [
       "<div>\n",
       "<table border=\"1\" class=\"dataframe\">\n",
       "  <thead>\n",
       "    <tr style=\"text-align: right;\">\n",
       "      <th></th>\n",
       "      <th>DAY_OF_WEEK</th>\n",
       "      <th>CARRIER</th>\n",
       "      <th>FL_NUM</th>\n",
       "      <th>ORIGIN</th>\n",
       "      <th>DEST</th>\n",
       "      <th>DEP_TIME</th>\n",
       "      <th>DEP_DELAY</th>\n",
       "      <th>ARR_TIME</th>\n",
       "      <th>ARR_DELAY</th>\n",
       "      <th>CANCELLED</th>\n",
       "      <th>CANCELLATION_CODE</th>\n",
       "      <th>AIR_TIME</th>\n",
       "      <th>DISTANCE</th>\n",
       "      <th>Date_of_flight</th>\n",
       "    </tr>\n",
       "  </thead>\n",
       "  <tbody>\n",
       "    <tr>\n",
       "      <th>26</th>\n",
       "      <td>2</td>\n",
       "      <td>AA</td>\n",
       "      <td>1</td>\n",
       "      <td>JFK</td>\n",
       "      <td>LAX</td>\n",
       "      <td>NaN</td>\n",
       "      <td>NaN</td>\n",
       "      <td>NaN</td>\n",
       "      <td>NaN</td>\n",
       "      <td>1.0</td>\n",
       "      <td>B</td>\n",
       "      <td>NaN</td>\n",
       "      <td>2475.0</td>\n",
       "      <td>2015-01-27</td>\n",
       "    </tr>\n",
       "    <tr>\n",
       "      <th>27</th>\n",
       "      <td>3</td>\n",
       "      <td>AA</td>\n",
       "      <td>1</td>\n",
       "      <td>JFK</td>\n",
       "      <td>LAX</td>\n",
       "      <td>NaN</td>\n",
       "      <td>NaN</td>\n",
       "      <td>NaN</td>\n",
       "      <td>NaN</td>\n",
       "      <td>1.0</td>\n",
       "      <td>B</td>\n",
       "      <td>NaN</td>\n",
       "      <td>2475.0</td>\n",
       "      <td>2015-01-28</td>\n",
       "    </tr>\n",
       "    <tr>\n",
       "      <th>56</th>\n",
       "      <td>1</td>\n",
       "      <td>AA</td>\n",
       "      <td>2</td>\n",
       "      <td>LAX</td>\n",
       "      <td>JFK</td>\n",
       "      <td>NaN</td>\n",
       "      <td>NaN</td>\n",
       "      <td>NaN</td>\n",
       "      <td>NaN</td>\n",
       "      <td>1.0</td>\n",
       "      <td>B</td>\n",
       "      <td>NaN</td>\n",
       "      <td>2475.0</td>\n",
       "      <td>2015-01-26</td>\n",
       "    </tr>\n",
       "    <tr>\n",
       "      <th>57</th>\n",
       "      <td>2</td>\n",
       "      <td>AA</td>\n",
       "      <td>2</td>\n",
       "      <td>LAX</td>\n",
       "      <td>JFK</td>\n",
       "      <td>NaN</td>\n",
       "      <td>NaN</td>\n",
       "      <td>NaN</td>\n",
       "      <td>NaN</td>\n",
       "      <td>1.0</td>\n",
       "      <td>B</td>\n",
       "      <td>NaN</td>\n",
       "      <td>2475.0</td>\n",
       "      <td>2015-01-27</td>\n",
       "    </tr>\n",
       "    <tr>\n",
       "      <th>88</th>\n",
       "      <td>2</td>\n",
       "      <td>AA</td>\n",
       "      <td>3</td>\n",
       "      <td>JFK</td>\n",
       "      <td>LAX</td>\n",
       "      <td>NaN</td>\n",
       "      <td>NaN</td>\n",
       "      <td>NaN</td>\n",
       "      <td>NaN</td>\n",
       "      <td>1.0</td>\n",
       "      <td>B</td>\n",
       "      <td>NaN</td>\n",
       "      <td>2475.0</td>\n",
       "      <td>2015-01-27</td>\n",
       "    </tr>\n",
       "  </tbody>\n",
       "</table>\n",
       "</div>"
      ],
      "text/plain": [
       "    DAY_OF_WEEK CARRIER  FL_NUM ORIGIN DEST  DEP_TIME  DEP_DELAY  ARR_TIME  \\\n",
       "26            2      AA       1    JFK  LAX       NaN        NaN       NaN   \n",
       "27            3      AA       1    JFK  LAX       NaN        NaN       NaN   \n",
       "56            1      AA       2    LAX  JFK       NaN        NaN       NaN   \n",
       "57            2      AA       2    LAX  JFK       NaN        NaN       NaN   \n",
       "88            2      AA       3    JFK  LAX       NaN        NaN       NaN   \n",
       "\n",
       "    ARR_DELAY  CANCELLED CANCELLATION_CODE  AIR_TIME  DISTANCE Date_of_flight  \n",
       "26        NaN        1.0                 B       NaN    2475.0     2015-01-27  \n",
       "27        NaN        1.0                 B       NaN    2475.0     2015-01-28  \n",
       "56        NaN        1.0                 B       NaN    2475.0     2015-01-26  \n",
       "57        NaN        1.0                 B       NaN    2475.0     2015-01-27  \n",
       "88        NaN        1.0                 B       NaN    2475.0     2015-01-27  "
      ]
     },
     "execution_count": 66,
     "metadata": {},
     "output_type": "execute_result"
    }
   ],
   "source": [
    "df_allData[df_allData.CANCELLED == 1].head()"
   ]
  },
  {
   "cell_type": "code",
   "execution_count": 10,
   "metadata": {
    "collapsed": true
   },
   "outputs": [],
   "source": [
    "del df_allData['Unnamed: 16']"
   ]
  },
  {
   "cell_type": "code",
   "execution_count": 16,
   "metadata": {
    "collapsed": true
   },
   "outputs": [],
   "source": [
    "import datetime"
   ]
  },
  {
   "cell_type": "code",
   "execution_count": 25,
   "metadata": {
    "collapsed": true
   },
   "outputs": [],
   "source": [
    "df_head = df_allData.head()"
   ]
  },
  {
   "cell_type": "code",
   "execution_count": 87,
   "metadata": {
    "collapsed": false,
    "scrolled": false
   },
   "outputs": [
    {
     "data": {
      "text/html": [
       "<div>\n",
       "<table border=\"1\" class=\"dataframe\">\n",
       "  <thead>\n",
       "    <tr style=\"text-align: right;\">\n",
       "      <th></th>\n",
       "      <th>YEAR</th>\n",
       "      <th>MONTH</th>\n",
       "      <th>DAY_OF_MONTH</th>\n",
       "      <th>DAY_OF_WEEK</th>\n",
       "      <th>CARRIER</th>\n",
       "      <th>FL_NUM</th>\n",
       "      <th>ORIGIN</th>\n",
       "      <th>DEST</th>\n",
       "      <th>DEP_TIME</th>\n",
       "      <th>DEP_DELAY</th>\n",
       "      <th>ARR_TIME</th>\n",
       "      <th>ARR_DELAY</th>\n",
       "      <th>CANCELLED</th>\n",
       "      <th>CANCELLATION_CODE</th>\n",
       "      <th>AIR_TIME</th>\n",
       "      <th>DISTANCE</th>\n",
       "      <th>Date_of_flight</th>\n",
       "      <th>color</th>\n",
       "    </tr>\n",
       "  </thead>\n",
       "  <tbody>\n",
       "    <tr>\n",
       "      <th>0</th>\n",
       "      <td>2015</td>\n",
       "      <td>1</td>\n",
       "      <td>1</td>\n",
       "      <td>4</td>\n",
       "      <td>AA</td>\n",
       "      <td>1</td>\n",
       "      <td>JFK</td>\n",
       "      <td>LAX</td>\n",
       "      <td>855.0</td>\n",
       "      <td>-5.0</td>\n",
       "      <td>1237.0</td>\n",
       "      <td>7.0</td>\n",
       "      <td>0.0</td>\n",
       "      <td>NaN</td>\n",
       "      <td>378.0</td>\n",
       "      <td>2475.0</td>\n",
       "      <td>2015-01-01</td>\n",
       "      <td>Go-Around</td>\n",
       "    </tr>\n",
       "    <tr>\n",
       "      <th>1</th>\n",
       "      <td>2015</td>\n",
       "      <td>1</td>\n",
       "      <td>2</td>\n",
       "      <td>5</td>\n",
       "      <td>AA</td>\n",
       "      <td>1</td>\n",
       "      <td>JFK</td>\n",
       "      <td>LAX</td>\n",
       "      <td>850.0</td>\n",
       "      <td>-10.0</td>\n",
       "      <td>1211.0</td>\n",
       "      <td>-19.0</td>\n",
       "      <td>0.0</td>\n",
       "      <td>NaN</td>\n",
       "      <td>357.0</td>\n",
       "      <td>2475.0</td>\n",
       "      <td>2015-01-02</td>\n",
       "      <td>Mechanical</td>\n",
       "    </tr>\n",
       "    <tr>\n",
       "      <th>2</th>\n",
       "      <td>2015</td>\n",
       "      <td>1</td>\n",
       "      <td>3</td>\n",
       "      <td>6</td>\n",
       "      <td>AA</td>\n",
       "      <td>1</td>\n",
       "      <td>JFK</td>\n",
       "      <td>LAX</td>\n",
       "      <td>853.0</td>\n",
       "      <td>-7.0</td>\n",
       "      <td>1151.0</td>\n",
       "      <td>-39.0</td>\n",
       "      <td>0.0</td>\n",
       "      <td>NaN</td>\n",
       "      <td>330.0</td>\n",
       "      <td>2475.0</td>\n",
       "      <td>2015-01-03</td>\n",
       "      <td>Weather</td>\n",
       "    </tr>\n",
       "    <tr>\n",
       "      <th>3</th>\n",
       "      <td>2015</td>\n",
       "      <td>1</td>\n",
       "      <td>4</td>\n",
       "      <td>7</td>\n",
       "      <td>AA</td>\n",
       "      <td>1</td>\n",
       "      <td>JFK</td>\n",
       "      <td>LAX</td>\n",
       "      <td>853.0</td>\n",
       "      <td>-7.0</td>\n",
       "      <td>1218.0</td>\n",
       "      <td>-12.0</td>\n",
       "      <td>0.0</td>\n",
       "      <td>NaN</td>\n",
       "      <td>352.0</td>\n",
       "      <td>2475.0</td>\n",
       "      <td>2015-01-04</td>\n",
       "      <td>Weather</td>\n",
       "    </tr>\n",
       "    <tr>\n",
       "      <th>4</th>\n",
       "      <td>2015</td>\n",
       "      <td>1</td>\n",
       "      <td>5</td>\n",
       "      <td>1</td>\n",
       "      <td>AA</td>\n",
       "      <td>1</td>\n",
       "      <td>JFK</td>\n",
       "      <td>LAX</td>\n",
       "      <td>853.0</td>\n",
       "      <td>-7.0</td>\n",
       "      <td>1222.0</td>\n",
       "      <td>-8.0</td>\n",
       "      <td>0.0</td>\n",
       "      <td>NaN</td>\n",
       "      <td>338.0</td>\n",
       "      <td>2475.0</td>\n",
       "      <td>2015-01-05</td>\n",
       "      <td>Weather</td>\n",
       "    </tr>\n",
       "  </tbody>\n",
       "</table>\n",
       "</div>"
      ],
      "text/plain": [
       "   YEAR  MONTH  DAY_OF_MONTH  DAY_OF_WEEK CARRIER  FL_NUM ORIGIN DEST  \\\n",
       "0  2015      1             1            4      AA       1    JFK  LAX   \n",
       "1  2015      1             2            5      AA       1    JFK  LAX   \n",
       "2  2015      1             3            6      AA       1    JFK  LAX   \n",
       "3  2015      1             4            7      AA       1    JFK  LAX   \n",
       "4  2015      1             5            1      AA       1    JFK  LAX   \n",
       "\n",
       "   DEP_TIME  DEP_DELAY  ARR_TIME  ARR_DELAY  CANCELLED CANCELLATION_CODE  \\\n",
       "0     855.0       -5.0    1237.0        7.0        0.0               NaN   \n",
       "1     850.0      -10.0    1211.0      -19.0        0.0               NaN   \n",
       "2     853.0       -7.0    1151.0      -39.0        0.0               NaN   \n",
       "3     853.0       -7.0    1218.0      -12.0        0.0               NaN   \n",
       "4     853.0       -7.0    1222.0       -8.0        0.0               NaN   \n",
       "\n",
       "   AIR_TIME  DISTANCE Date_of_flight       color  \n",
       "0     378.0    2475.0     2015-01-01   Go-Around  \n",
       "1     357.0    2475.0     2015-01-02  Mechanical  \n",
       "2     330.0    2475.0     2015-01-03     Weather  \n",
       "3     352.0    2475.0     2015-01-04     Weather  \n",
       "4     338.0    2475.0     2015-01-05     Weather  "
      ]
     },
     "execution_count": 87,
     "metadata": {},
     "output_type": "execute_result"
    }
   ],
   "source": [
    "df_head"
   ]
  },
  {
   "cell_type": "code",
   "execution_count": 94,
   "metadata": {
    "collapsed": false
   },
   "outputs": [],
   "source": [
    "conditions = [\n",
    "    (df_allData.ARR_DELAY >= 15) & (df_allData.ARR_DELAY < 30),\n",
    "    (df_allData.ARR_DELAY >= 30) & (df_allData.ARR_DELAY < 45),\n",
    "    (df_allData.ARR_DELAY >= 45) & (df_allData.ARR_DELAY < 75),\n",
    "    (df_allData.ARR_DELAY >= 75)\n",
    "]\n",
    "choices = ['Go-Around', 'Weather', 'Mechanical', 'Emergency']\n",
    "df_allData['DELAY_REASON'] = np.select(conditions, choices, default=np.nan)"
   ]
  },
  {
   "cell_type": "code",
   "execution_count": 123,
   "metadata": {
    "collapsed": false
   },
   "outputs": [
    {
     "data": {
      "text/html": [
       "<div>\n",
       "<table border=\"1\" class=\"dataframe\">\n",
       "  <thead>\n",
       "    <tr style=\"text-align: right;\">\n",
       "      <th></th>\n",
       "      <th>DAY_OF_WEEK</th>\n",
       "      <th>CARRIER</th>\n",
       "      <th>FL_NUM</th>\n",
       "      <th>ORIGIN</th>\n",
       "      <th>DEST</th>\n",
       "      <th>DEP_TIME</th>\n",
       "      <th>DEP_DELAY</th>\n",
       "      <th>ARR_TIME</th>\n",
       "      <th>ARR_DELAY</th>\n",
       "      <th>CANCELLED</th>\n",
       "      <th>CANCELLATION_CODE</th>\n",
       "      <th>AIR_TIME</th>\n",
       "      <th>DISTANCE</th>\n",
       "      <th>Date_of_flight</th>\n",
       "      <th>DELAY_REASON</th>\n",
       "    </tr>\n",
       "  </thead>\n",
       "  <tbody>\n",
       "    <tr>\n",
       "      <th>0</th>\n",
       "      <td>4</td>\n",
       "      <td>AA</td>\n",
       "      <td>1</td>\n",
       "      <td>JFK</td>\n",
       "      <td>LAX</td>\n",
       "      <td>855.0</td>\n",
       "      <td>-5.0</td>\n",
       "      <td>1237.0</td>\n",
       "      <td>7.0</td>\n",
       "      <td>0.0</td>\n",
       "      <td>NaN</td>\n",
       "      <td>378.0</td>\n",
       "      <td>2475.0</td>\n",
       "      <td>2015-01-01</td>\n",
       "      <td>nan</td>\n",
       "    </tr>\n",
       "    <tr>\n",
       "      <th>1</th>\n",
       "      <td>5</td>\n",
       "      <td>AA</td>\n",
       "      <td>1</td>\n",
       "      <td>JFK</td>\n",
       "      <td>LAX</td>\n",
       "      <td>850.0</td>\n",
       "      <td>-10.0</td>\n",
       "      <td>1211.0</td>\n",
       "      <td>-19.0</td>\n",
       "      <td>0.0</td>\n",
       "      <td>NaN</td>\n",
       "      <td>357.0</td>\n",
       "      <td>2475.0</td>\n",
       "      <td>2015-01-02</td>\n",
       "      <td>nan</td>\n",
       "    </tr>\n",
       "    <tr>\n",
       "      <th>2</th>\n",
       "      <td>6</td>\n",
       "      <td>AA</td>\n",
       "      <td>1</td>\n",
       "      <td>JFK</td>\n",
       "      <td>LAX</td>\n",
       "      <td>853.0</td>\n",
       "      <td>-7.0</td>\n",
       "      <td>1151.0</td>\n",
       "      <td>-39.0</td>\n",
       "      <td>0.0</td>\n",
       "      <td>NaN</td>\n",
       "      <td>330.0</td>\n",
       "      <td>2475.0</td>\n",
       "      <td>2015-01-03</td>\n",
       "      <td>nan</td>\n",
       "    </tr>\n",
       "    <tr>\n",
       "      <th>3</th>\n",
       "      <td>7</td>\n",
       "      <td>AA</td>\n",
       "      <td>1</td>\n",
       "      <td>JFK</td>\n",
       "      <td>LAX</td>\n",
       "      <td>853.0</td>\n",
       "      <td>-7.0</td>\n",
       "      <td>1218.0</td>\n",
       "      <td>-12.0</td>\n",
       "      <td>0.0</td>\n",
       "      <td>NaN</td>\n",
       "      <td>352.0</td>\n",
       "      <td>2475.0</td>\n",
       "      <td>2015-01-04</td>\n",
       "      <td>nan</td>\n",
       "    </tr>\n",
       "    <tr>\n",
       "      <th>4</th>\n",
       "      <td>1</td>\n",
       "      <td>AA</td>\n",
       "      <td>1</td>\n",
       "      <td>JFK</td>\n",
       "      <td>LAX</td>\n",
       "      <td>853.0</td>\n",
       "      <td>-7.0</td>\n",
       "      <td>1222.0</td>\n",
       "      <td>-8.0</td>\n",
       "      <td>0.0</td>\n",
       "      <td>NaN</td>\n",
       "      <td>338.0</td>\n",
       "      <td>2475.0</td>\n",
       "      <td>2015-01-05</td>\n",
       "      <td>nan</td>\n",
       "    </tr>\n",
       "  </tbody>\n",
       "</table>\n",
       "</div>"
      ],
      "text/plain": [
       "   DAY_OF_WEEK CARRIER  FL_NUM ORIGIN DEST  DEP_TIME  DEP_DELAY  ARR_TIME  \\\n",
       "0            4      AA       1    JFK  LAX     855.0       -5.0    1237.0   \n",
       "1            5      AA       1    JFK  LAX     850.0      -10.0    1211.0   \n",
       "2            6      AA       1    JFK  LAX     853.0       -7.0    1151.0   \n",
       "3            7      AA       1    JFK  LAX     853.0       -7.0    1218.0   \n",
       "4            1      AA       1    JFK  LAX     853.0       -7.0    1222.0   \n",
       "\n",
       "   ARR_DELAY  CANCELLED CANCELLATION_CODE  AIR_TIME  DISTANCE Date_of_flight  \\\n",
       "0        7.0        0.0               NaN     378.0    2475.0     2015-01-01   \n",
       "1      -19.0        0.0               NaN     357.0    2475.0     2015-01-02   \n",
       "2      -39.0        0.0               NaN     330.0    2475.0     2015-01-03   \n",
       "3      -12.0        0.0               NaN     352.0    2475.0     2015-01-04   \n",
       "4       -8.0        0.0               NaN     338.0    2475.0     2015-01-05   \n",
       "\n",
       "  DELAY_REASON  \n",
       "0          nan  \n",
       "1          nan  \n",
       "2          nan  \n",
       "3          nan  \n",
       "4          nan  "
      ]
     },
     "execution_count": 123,
     "metadata": {},
     "output_type": "execute_result"
    }
   ],
   "source": [
    "df_allData.head()"
   ]
  },
  {
   "cell_type": "code",
   "execution_count": null,
   "metadata": {
    "collapsed": false
   },
   "outputs": [],
   "source": [
    "conditions = [\n",
    "    (df_allData.CANCELLATION_CODE == 'A'),\n",
    "    (df_allData.CANCELLATION_CODE == 'B'),\n",
    "    (df_allData.CANCELLATION_CODE == 'C')\n",
    "]\n",
    "choices = ['Go-Around', 'Weather', 'Mechanical']\n",
    "df_allData['CANCELL_REASON'] = np.select(conditions, choices, default=np.nan)"
   ]
  },
  {
   "cell_type": "code",
   "execution_count": 60,
   "metadata": {
    "collapsed": false
   },
   "outputs": [
    {
     "name": "stderr",
     "output_type": "stream",
     "text": [
      "C:\\Users\\NeerajB\\AppData\\Local\\Enthought\\Canopy\\User\\lib\\site-packages\\ipykernel\\__main__.py:1: SettingWithCopyWarning: \n",
      "A value is trying to be set on a copy of a slice from a DataFrame.\n",
      "Try using .loc[row_indexer,col_indexer] = value instead\n",
      "\n",
      "See the caveats in the documentation: http://pandas.pydata.org/pandas-docs/stable/indexing.html#indexing-view-versus-copy\n",
      "  if __name__ == '__main__':\n"
     ]
    }
   ],
   "source": [
    "df_head['Date_of_flight'] = np.vectorize(datetime.date)(df_head['YEAR'],df_head['MONTH'],df_head['DAY_OF_MONTH'])"
   ]
  },
  {
   "cell_type": "code",
   "execution_count": 64,
   "metadata": {
    "collapsed": true
   },
   "outputs": [],
   "source": [
    "df_allData['Date_of_flight'] = np.vectorize(datetime.date)(df_allData['YEAR'],df_allData['MONTH'],df_allData['DAY_OF_MONTH'])"
   ]
  },
  {
   "cell_type": "code",
   "execution_count": 65,
   "metadata": {
    "collapsed": true
   },
   "outputs": [],
   "source": [
    "del df_allData['YEAR']\n",
    "del df_allData['MONTH']\n",
    "del df_allData['DAY_OF_MONTH']"
   ]
  },
  {
   "cell_type": "code",
   "execution_count": 67,
   "metadata": {
    "collapsed": false
   },
   "outputs": [
    {
     "data": {
      "text/plain": [
       "(5819079, 14)"
      ]
     },
     "execution_count": 67,
     "metadata": {},
     "output_type": "execute_result"
    }
   ],
   "source": [
    "df_allData.shape"
   ]
  },
  {
   "cell_type": "code",
   "execution_count": 125,
   "metadata": {
    "collapsed": true
   },
   "outputs": [],
   "source": [
    "df_allData['DEP_TIME'] = df_allData['DEP_TIME'].apply(lambda x : timestring(x))\n",
    "df_allData['ARR_TIME'] = df_allData['ARR_TIME'].apply(lambda x : timestring(x))"
   ]
  },
  {
   "cell_type": "code",
   "execution_count": 130,
   "metadata": {
    "collapsed": false
   },
   "outputs": [
    {
     "data": {
      "text/html": [
       "<div>\n",
       "<table border=\"1\" class=\"dataframe\">\n",
       "  <thead>\n",
       "    <tr style=\"text-align: right;\">\n",
       "      <th></th>\n",
       "      <th>DAY_OF_WEEK</th>\n",
       "      <th>CARRIER</th>\n",
       "      <th>FL_NUM</th>\n",
       "      <th>ORIGIN</th>\n",
       "      <th>DEST</th>\n",
       "      <th>DEP_TIME</th>\n",
       "      <th>DEP_DELAY</th>\n",
       "      <th>ARR_TIME</th>\n",
       "      <th>ARR_DELAY</th>\n",
       "      <th>CANCELLED</th>\n",
       "      <th>CANCELLATION_CODE</th>\n",
       "      <th>AIR_TIME</th>\n",
       "      <th>DISTANCE</th>\n",
       "      <th>Date_of_flight</th>\n",
       "      <th>DELAY_REASON</th>\n",
       "    </tr>\n",
       "  </thead>\n",
       "  <tbody>\n",
       "    <tr>\n",
       "      <th>26</th>\n",
       "      <td>2</td>\n",
       "      <td>AA</td>\n",
       "      <td>1</td>\n",
       "      <td>JFK</td>\n",
       "      <td>LAX</td>\n",
       "      <td>nan</td>\n",
       "      <td>NaN</td>\n",
       "      <td>nan</td>\n",
       "      <td>NaN</td>\n",
       "      <td>1.0</td>\n",
       "      <td>Weather</td>\n",
       "      <td>NaN</td>\n",
       "      <td>2475.0</td>\n",
       "      <td>2015-01-27</td>\n",
       "      <td>nan</td>\n",
       "    </tr>\n",
       "    <tr>\n",
       "      <th>27</th>\n",
       "      <td>3</td>\n",
       "      <td>AA</td>\n",
       "      <td>1</td>\n",
       "      <td>JFK</td>\n",
       "      <td>LAX</td>\n",
       "      <td>nan</td>\n",
       "      <td>NaN</td>\n",
       "      <td>nan</td>\n",
       "      <td>NaN</td>\n",
       "      <td>1.0</td>\n",
       "      <td>Weather</td>\n",
       "      <td>NaN</td>\n",
       "      <td>2475.0</td>\n",
       "      <td>2015-01-28</td>\n",
       "      <td>nan</td>\n",
       "    </tr>\n",
       "    <tr>\n",
       "      <th>56</th>\n",
       "      <td>1</td>\n",
       "      <td>AA</td>\n",
       "      <td>2</td>\n",
       "      <td>LAX</td>\n",
       "      <td>JFK</td>\n",
       "      <td>nan</td>\n",
       "      <td>NaN</td>\n",
       "      <td>nan</td>\n",
       "      <td>NaN</td>\n",
       "      <td>1.0</td>\n",
       "      <td>Weather</td>\n",
       "      <td>NaN</td>\n",
       "      <td>2475.0</td>\n",
       "      <td>2015-01-26</td>\n",
       "      <td>nan</td>\n",
       "    </tr>\n",
       "    <tr>\n",
       "      <th>57</th>\n",
       "      <td>2</td>\n",
       "      <td>AA</td>\n",
       "      <td>2</td>\n",
       "      <td>LAX</td>\n",
       "      <td>JFK</td>\n",
       "      <td>nan</td>\n",
       "      <td>NaN</td>\n",
       "      <td>nan</td>\n",
       "      <td>NaN</td>\n",
       "      <td>1.0</td>\n",
       "      <td>Weather</td>\n",
       "      <td>NaN</td>\n",
       "      <td>2475.0</td>\n",
       "      <td>2015-01-27</td>\n",
       "      <td>nan</td>\n",
       "    </tr>\n",
       "    <tr>\n",
       "      <th>88</th>\n",
       "      <td>2</td>\n",
       "      <td>AA</td>\n",
       "      <td>3</td>\n",
       "      <td>JFK</td>\n",
       "      <td>LAX</td>\n",
       "      <td>nan</td>\n",
       "      <td>NaN</td>\n",
       "      <td>nan</td>\n",
       "      <td>NaN</td>\n",
       "      <td>1.0</td>\n",
       "      <td>Weather</td>\n",
       "      <td>NaN</td>\n",
       "      <td>2475.0</td>\n",
       "      <td>2015-01-27</td>\n",
       "      <td>nan</td>\n",
       "    </tr>\n",
       "  </tbody>\n",
       "</table>\n",
       "</div>"
      ],
      "text/plain": [
       "    DAY_OF_WEEK CARRIER  FL_NUM ORIGIN DEST DEP_TIME  DEP_DELAY ARR_TIME  \\\n",
       "26            2      AA       1    JFK  LAX      nan        NaN      nan   \n",
       "27            3      AA       1    JFK  LAX      nan        NaN      nan   \n",
       "56            1      AA       2    LAX  JFK      nan        NaN      nan   \n",
       "57            2      AA       2    LAX  JFK      nan        NaN      nan   \n",
       "88            2      AA       3    JFK  LAX      nan        NaN      nan   \n",
       "\n",
       "    ARR_DELAY  CANCELLED CANCELLATION_CODE  AIR_TIME  DISTANCE Date_of_flight  \\\n",
       "26        NaN        1.0           Weather       NaN    2475.0     2015-01-27   \n",
       "27        NaN        1.0           Weather       NaN    2475.0     2015-01-28   \n",
       "56        NaN        1.0           Weather       NaN    2475.0     2015-01-26   \n",
       "57        NaN        1.0           Weather       NaN    2475.0     2015-01-27   \n",
       "88        NaN        1.0           Weather       NaN    2475.0     2015-01-27   \n",
       "\n",
       "   DELAY_REASON  \n",
       "26          nan  \n",
       "27          nan  \n",
       "56          nan  \n",
       "57          nan  \n",
       "88          nan  "
      ]
     },
     "execution_count": 130,
     "metadata": {},
     "output_type": "execute_result"
    }
   ],
   "source": [
    "df_allData[df_allData.CANCELLED == 1].head()"
   ]
  },
  {
   "cell_type": "code",
   "execution_count": 127,
   "metadata": {
    "collapsed": true
   },
   "outputs": [],
   "source": [
    "df_allData['CANCELLATION_CODE'] = df_allData['CANCELLATION_CODE'].replace(to_replace = ['A','B','C','D'], value=['Carrier','Weather','National Air System','Security'])"
   ]
  },
  {
   "cell_type": "code",
   "execution_count": 131,
   "metadata": {
    "collapsed": true
   },
   "outputs": [],
   "source": [
    "df_allData.to_csv('flights_new.csv', sep=',')"
   ]
  },
  {
   "cell_type": "markdown",
   "metadata": {},
   "source": [
    "## -- End of hive table"
   ]
  },
  {
   "cell_type": "markdown",
   "metadata": {},
   "source": [
    "### Filter for records of 3 airlines - American Airlines, Alaska Airlines, Delta Airlines"
   ]
  },
  {
   "cell_type": "code",
   "execution_count": 8,
   "metadata": {
    "collapsed": false
   },
   "outputs": [],
   "source": [
    "carriers = ['AA', 'AS', 'DL']\n",
    "df_jan = df_jan[df_jan['CARRIER'].isin(carriers)]\n",
    "df_feb = df_feb[df_feb['CARRIER'].isin(carriers)]\n",
    "df_mar = df_mar[df_mar['CARRIER'].isin(carriers)]"
   ]
  },
  {
   "cell_type": "code",
   "execution_count": 9,
   "metadata": {
    "collapsed": false
   },
   "outputs": [],
   "source": [
    "df_apr = df_apr[df_apr['CARRIER'].isin(carriers)]\n",
    "df_may = df_may[df_may['CARRIER'].isin(carriers)]\n",
    "df_jun = df_jun[df_jun['CARRIER'].isin(carriers)]"
   ]
  },
  {
   "cell_type": "code",
   "execution_count": 10,
   "metadata": {
    "collapsed": true
   },
   "outputs": [],
   "source": [
    "df_jul = df_jul[df_jul['CARRIER'].isin(carriers)]\n",
    "df_aug = df_aug[df_aug['CARRIER'].isin(carriers)]\n",
    "df_sep = df_sep[df_sep['CARRIER'].isin(carriers)]"
   ]
  },
  {
   "cell_type": "code",
   "execution_count": 11,
   "metadata": {
    "collapsed": true
   },
   "outputs": [],
   "source": [
    "df_oct = df_oct[df_oct['CARRIER'].isin(carriers)]\n",
    "df_nov = df_nov[df_nov['CARRIER'].isin(carriers)]\n",
    "df_dec = df_dec[df_dec['CARRIER'].isin(carriers)]"
   ]
  },
  {
   "cell_type": "code",
   "execution_count": 8,
   "metadata": {
    "collapsed": false
   },
   "outputs": [
    {
     "data": {
      "text/plain": [
       "(5819079, 17)"
      ]
     },
     "execution_count": 8,
     "metadata": {},
     "output_type": "execute_result"
    }
   ],
   "source": [
    "df_allData = pd.concat([df_jan,df_feb,df_mar,df_apr,df_may,df_jun,df_jul,df_aug, df_sep,df_oct,df_nov,df_dec], ignore_index=True)\n",
    "\n",
    "df_allData.shape"
   ]
  },
  {
   "cell_type": "code",
   "execution_count": 12,
   "metadata": {
    "collapsed": false,
    "scrolled": false
   },
   "outputs": [
    {
     "data": {
      "text/html": [
       "<div>\n",
       "<table border=\"1\" class=\"dataframe\">\n",
       "  <thead>\n",
       "    <tr style=\"text-align: right;\">\n",
       "      <th></th>\n",
       "      <th>YEAR</th>\n",
       "      <th>MONTH</th>\n",
       "      <th>DAY_OF_MONTH</th>\n",
       "      <th>DAY_OF_WEEK</th>\n",
       "      <th>CARRIER</th>\n",
       "      <th>FL_NUM</th>\n",
       "      <th>ORIGIN</th>\n",
       "      <th>DEST</th>\n",
       "      <th>DEP_TIME</th>\n",
       "      <th>DEP_DELAY</th>\n",
       "      <th>ARR_TIME</th>\n",
       "      <th>ARR_DELAY</th>\n",
       "      <th>CANCELLED</th>\n",
       "      <th>CANCELLATION_CODE</th>\n",
       "      <th>AIR_TIME</th>\n",
       "      <th>DISTANCE</th>\n",
       "    </tr>\n",
       "  </thead>\n",
       "  <tbody>\n",
       "    <tr>\n",
       "      <th>0</th>\n",
       "      <td>2015</td>\n",
       "      <td>1</td>\n",
       "      <td>1</td>\n",
       "      <td>4</td>\n",
       "      <td>AA</td>\n",
       "      <td>1</td>\n",
       "      <td>JFK</td>\n",
       "      <td>LAX</td>\n",
       "      <td>855.0</td>\n",
       "      <td>-5.0</td>\n",
       "      <td>1237.0</td>\n",
       "      <td>7.0</td>\n",
       "      <td>0.0</td>\n",
       "      <td>NaN</td>\n",
       "      <td>378.0</td>\n",
       "      <td>2475.0</td>\n",
       "    </tr>\n",
       "    <tr>\n",
       "      <th>1</th>\n",
       "      <td>2015</td>\n",
       "      <td>1</td>\n",
       "      <td>2</td>\n",
       "      <td>5</td>\n",
       "      <td>AA</td>\n",
       "      <td>1</td>\n",
       "      <td>JFK</td>\n",
       "      <td>LAX</td>\n",
       "      <td>850.0</td>\n",
       "      <td>-10.0</td>\n",
       "      <td>1211.0</td>\n",
       "      <td>-19.0</td>\n",
       "      <td>0.0</td>\n",
       "      <td>NaN</td>\n",
       "      <td>357.0</td>\n",
       "      <td>2475.0</td>\n",
       "    </tr>\n",
       "    <tr>\n",
       "      <th>2</th>\n",
       "      <td>2015</td>\n",
       "      <td>1</td>\n",
       "      <td>3</td>\n",
       "      <td>6</td>\n",
       "      <td>AA</td>\n",
       "      <td>1</td>\n",
       "      <td>JFK</td>\n",
       "      <td>LAX</td>\n",
       "      <td>853.0</td>\n",
       "      <td>-7.0</td>\n",
       "      <td>1151.0</td>\n",
       "      <td>-39.0</td>\n",
       "      <td>0.0</td>\n",
       "      <td>NaN</td>\n",
       "      <td>330.0</td>\n",
       "      <td>2475.0</td>\n",
       "    </tr>\n",
       "    <tr>\n",
       "      <th>3</th>\n",
       "      <td>2015</td>\n",
       "      <td>1</td>\n",
       "      <td>4</td>\n",
       "      <td>7</td>\n",
       "      <td>AA</td>\n",
       "      <td>1</td>\n",
       "      <td>JFK</td>\n",
       "      <td>LAX</td>\n",
       "      <td>853.0</td>\n",
       "      <td>-7.0</td>\n",
       "      <td>1218.0</td>\n",
       "      <td>-12.0</td>\n",
       "      <td>0.0</td>\n",
       "      <td>NaN</td>\n",
       "      <td>352.0</td>\n",
       "      <td>2475.0</td>\n",
       "    </tr>\n",
       "    <tr>\n",
       "      <th>4</th>\n",
       "      <td>2015</td>\n",
       "      <td>1</td>\n",
       "      <td>5</td>\n",
       "      <td>1</td>\n",
       "      <td>AA</td>\n",
       "      <td>1</td>\n",
       "      <td>JFK</td>\n",
       "      <td>LAX</td>\n",
       "      <td>853.0</td>\n",
       "      <td>-7.0</td>\n",
       "      <td>1222.0</td>\n",
       "      <td>-8.0</td>\n",
       "      <td>0.0</td>\n",
       "      <td>NaN</td>\n",
       "      <td>338.0</td>\n",
       "      <td>2475.0</td>\n",
       "    </tr>\n",
       "  </tbody>\n",
       "</table>\n",
       "</div>"
      ],
      "text/plain": [
       "   YEAR  MONTH  DAY_OF_MONTH  DAY_OF_WEEK CARRIER  FL_NUM ORIGIN DEST  \\\n",
       "0  2015      1             1            4      AA       1    JFK  LAX   \n",
       "1  2015      1             2            5      AA       1    JFK  LAX   \n",
       "2  2015      1             3            6      AA       1    JFK  LAX   \n",
       "3  2015      1             4            7      AA       1    JFK  LAX   \n",
       "4  2015      1             5            1      AA       1    JFK  LAX   \n",
       "\n",
       "   DEP_TIME  DEP_DELAY  ARR_TIME  ARR_DELAY  CANCELLED CANCELLATION_CODE  \\\n",
       "0     855.0       -5.0    1237.0        7.0        0.0               NaN   \n",
       "1     850.0      -10.0    1211.0      -19.0        0.0               NaN   \n",
       "2     853.0       -7.0    1151.0      -39.0        0.0               NaN   \n",
       "3     853.0       -7.0    1218.0      -12.0        0.0               NaN   \n",
       "4     853.0       -7.0    1222.0       -8.0        0.0               NaN   \n",
       "\n",
       "   AIR_TIME  DISTANCE  \n",
       "0     378.0    2475.0  \n",
       "1     357.0    2475.0  \n",
       "2     330.0    2475.0  \n",
       "3     352.0    2475.0  \n",
       "4     338.0    2475.0  "
      ]
     },
     "execution_count": 12,
     "metadata": {},
     "output_type": "execute_result"
    }
   ],
   "source": [
    "df_allData.head()"
   ]
  },
  {
   "cell_type": "markdown",
   "metadata": {},
   "source": [
    "## Cleaning and Validation"
   ]
  },
  {
   "cell_type": "code",
   "execution_count": 43,
   "metadata": {
    "collapsed": true
   },
   "outputs": [],
   "source": [
    "import numpy as np"
   ]
  },
  {
   "cell_type": "code",
   "execution_count": 11,
   "metadata": {
    "collapsed": false
   },
   "outputs": [],
   "source": [
    "del df_allData['Unnamed: 16']"
   ]
  },
  {
   "cell_type": "code",
   "execution_count": 124,
   "metadata": {
    "collapsed": true
   },
   "outputs": [],
   "source": [
    "def timestring(item):\n",
    "    item = str(item)\n",
    "    if item == 'nan':\n",
    "        return item\n",
    "    elif item == '2400.0':\n",
    "        item = '00:00'\n",
    "    elif len(item) == 5:\n",
    "        item = '0'+item[:-4]+':'+item[-4:-2]\n",
    "    elif len(item) == 4:\n",
    "        item = '00:'+item[:2]\n",
    "    elif len(item) == 3:\n",
    "        item = '00:0'+item[0]\n",
    "    else:\n",
    "        item = item[:-4]+':'+item[-4:-2]\n",
    "        \n",
    "    return item"
   ]
  },
  {
   "cell_type": "code",
   "execution_count": 19,
   "metadata": {
    "collapsed": false
   },
   "outputs": [],
   "source": [
    "notcancel = df_allData[df_allData['CANCELLED']==0].drop('CANCELLATION_CODE', axis=1)"
   ]
  },
  {
   "cell_type": "code",
   "execution_count": 20,
   "metadata": {
    "collapsed": false
   },
   "outputs": [],
   "source": [
    "notcancel = notcancel.dropna(how='any', axis=0)"
   ]
  },
  {
   "cell_type": "code",
   "execution_count": 19,
   "metadata": {
    "collapsed": false,
    "scrolled": false
   },
   "outputs": [],
   "source": [
    "notcancel['DEP_TIME'] = notcancel['DEP_TIME'].apply(lambda x : timestring(x))\n",
    "notcancel['ARR_TIME'] = notcancel['ARR_TIME'].apply(lambda x : timestring(x))"
   ]
  },
  {
   "cell_type": "code",
   "execution_count": 23,
   "metadata": {
    "collapsed": false,
    "scrolled": false
   },
   "outputs": [
    {
     "data": {
      "text/html": [
       "<div>\n",
       "<table border=\"1\" class=\"dataframe\">\n",
       "  <thead>\n",
       "    <tr style=\"text-align: right;\">\n",
       "      <th></th>\n",
       "      <th>YEAR</th>\n",
       "      <th>MONTH</th>\n",
       "      <th>DAY_OF_MONTH</th>\n",
       "      <th>DAY_OF_WEEK</th>\n",
       "      <th>CARRIER</th>\n",
       "      <th>FL_NUM</th>\n",
       "      <th>ORIGIN</th>\n",
       "      <th>DEST</th>\n",
       "      <th>DEP_TIME</th>\n",
       "      <th>DEP_DELAY</th>\n",
       "      <th>ARR_TIME</th>\n",
       "      <th>ARR_DELAY</th>\n",
       "      <th>CANCELLED</th>\n",
       "      <th>AIR_TIME</th>\n",
       "      <th>DISTANCE</th>\n",
       "      <th>DEP_HOUR</th>\n",
       "      <th>DEP_MIN</th>\n",
       "      <th>ARR_HOUR</th>\n",
       "      <th>ARR_MIN</th>\n",
       "    </tr>\n",
       "  </thead>\n",
       "  <tbody>\n",
       "    <tr>\n",
       "      <th>0</th>\n",
       "      <td>2015</td>\n",
       "      <td>1</td>\n",
       "      <td>1</td>\n",
       "      <td>4</td>\n",
       "      <td>AA</td>\n",
       "      <td>1</td>\n",
       "      <td>JFK</td>\n",
       "      <td>LAX</td>\n",
       "      <td>08:55</td>\n",
       "      <td>-5.0</td>\n",
       "      <td>12:37</td>\n",
       "      <td>7.0</td>\n",
       "      <td>0.0</td>\n",
       "      <td>378.0</td>\n",
       "      <td>2475.0</td>\n",
       "      <td>8</td>\n",
       "      <td>55</td>\n",
       "      <td>12</td>\n",
       "      <td>37</td>\n",
       "    </tr>\n",
       "    <tr>\n",
       "      <th>1</th>\n",
       "      <td>2015</td>\n",
       "      <td>1</td>\n",
       "      <td>2</td>\n",
       "      <td>5</td>\n",
       "      <td>AA</td>\n",
       "      <td>1</td>\n",
       "      <td>JFK</td>\n",
       "      <td>LAX</td>\n",
       "      <td>08:50</td>\n",
       "      <td>-10.0</td>\n",
       "      <td>12:11</td>\n",
       "      <td>-19.0</td>\n",
       "      <td>0.0</td>\n",
       "      <td>357.0</td>\n",
       "      <td>2475.0</td>\n",
       "      <td>8</td>\n",
       "      <td>50</td>\n",
       "      <td>12</td>\n",
       "      <td>11</td>\n",
       "    </tr>\n",
       "    <tr>\n",
       "      <th>2</th>\n",
       "      <td>2015</td>\n",
       "      <td>1</td>\n",
       "      <td>3</td>\n",
       "      <td>6</td>\n",
       "      <td>AA</td>\n",
       "      <td>1</td>\n",
       "      <td>JFK</td>\n",
       "      <td>LAX</td>\n",
       "      <td>08:53</td>\n",
       "      <td>-7.0</td>\n",
       "      <td>11:51</td>\n",
       "      <td>-39.0</td>\n",
       "      <td>0.0</td>\n",
       "      <td>330.0</td>\n",
       "      <td>2475.0</td>\n",
       "      <td>8</td>\n",
       "      <td>53</td>\n",
       "      <td>11</td>\n",
       "      <td>51</td>\n",
       "    </tr>\n",
       "    <tr>\n",
       "      <th>3</th>\n",
       "      <td>2015</td>\n",
       "      <td>1</td>\n",
       "      <td>4</td>\n",
       "      <td>7</td>\n",
       "      <td>AA</td>\n",
       "      <td>1</td>\n",
       "      <td>JFK</td>\n",
       "      <td>LAX</td>\n",
       "      <td>08:53</td>\n",
       "      <td>-7.0</td>\n",
       "      <td>12:18</td>\n",
       "      <td>-12.0</td>\n",
       "      <td>0.0</td>\n",
       "      <td>352.0</td>\n",
       "      <td>2475.0</td>\n",
       "      <td>8</td>\n",
       "      <td>53</td>\n",
       "      <td>12</td>\n",
       "      <td>18</td>\n",
       "    </tr>\n",
       "    <tr>\n",
       "      <th>4</th>\n",
       "      <td>2015</td>\n",
       "      <td>1</td>\n",
       "      <td>5</td>\n",
       "      <td>1</td>\n",
       "      <td>AA</td>\n",
       "      <td>1</td>\n",
       "      <td>JFK</td>\n",
       "      <td>LAX</td>\n",
       "      <td>08:53</td>\n",
       "      <td>-7.0</td>\n",
       "      <td>12:22</td>\n",
       "      <td>-8.0</td>\n",
       "      <td>0.0</td>\n",
       "      <td>338.0</td>\n",
       "      <td>2475.0</td>\n",
       "      <td>8</td>\n",
       "      <td>53</td>\n",
       "      <td>12</td>\n",
       "      <td>22</td>\n",
       "    </tr>\n",
       "  </tbody>\n",
       "</table>\n",
       "</div>"
      ],
      "text/plain": [
       "   YEAR  MONTH  DAY_OF_MONTH  DAY_OF_WEEK CARRIER  FL_NUM ORIGIN DEST  \\\n",
       "0  2015      1             1            4      AA       1    JFK  LAX   \n",
       "1  2015      1             2            5      AA       1    JFK  LAX   \n",
       "2  2015      1             3            6      AA       1    JFK  LAX   \n",
       "3  2015      1             4            7      AA       1    JFK  LAX   \n",
       "4  2015      1             5            1      AA       1    JFK  LAX   \n",
       "\n",
       "  DEP_TIME  DEP_DELAY ARR_TIME  ARR_DELAY  CANCELLED  AIR_TIME  DISTANCE  \\\n",
       "0    08:55       -5.0    12:37        7.0        0.0     378.0    2475.0   \n",
       "1    08:50      -10.0    12:11      -19.0        0.0     357.0    2475.0   \n",
       "2    08:53       -7.0    11:51      -39.0        0.0     330.0    2475.0   \n",
       "3    08:53       -7.0    12:18      -12.0        0.0     352.0    2475.0   \n",
       "4    08:53       -7.0    12:22       -8.0        0.0     338.0    2475.0   \n",
       "\n",
       "   DEP_HOUR  DEP_MIN  ARR_HOUR  ARR_MIN  \n",
       "0         8       55        12       37  \n",
       "1         8       50        12       11  \n",
       "2         8       53        11       51  \n",
       "3         8       53        12       18  \n",
       "4         8       53        12       22  "
      ]
     },
     "execution_count": 23,
     "metadata": {},
     "output_type": "execute_result"
    }
   ],
   "source": [
    "notcancel.head()"
   ]
  },
  {
   "cell_type": "code",
   "execution_count": 22,
   "metadata": {
    "collapsed": false,
    "scrolled": true
   },
   "outputs": [],
   "source": [
    "notcancel['DEP_HOUR'] = notcancel['DEP_TIME'].apply(lambda x : int(x.split(\":\")[0]))\n",
    "notcancel['DEP_MIN'] = notcancel['DEP_TIME'].apply(lambda x : int(x.split(\":\")[1]))\n",
    "notcancel['ARR_HOUR'] = notcancel['ARR_TIME'].apply(lambda x : int(x.split(\":\")[0]))\n",
    "notcancel['ARR_MIN'] = notcancel['ARR_TIME'].apply(lambda x : int(x.split(\":\")[1]))"
   ]
  },
  {
   "cell_type": "code",
   "execution_count": null,
   "metadata": {
    "collapsed": true
   },
   "outputs": [],
   "source": [
    "notcancel.to_csv('flights.csv', sep=',')"
   ]
  },
  {
   "cell_type": "markdown",
   "metadata": {},
   "source": [
    "## Analysis"
   ]
  },
  {
   "cell_type": "code",
   "execution_count": 22,
   "metadata": {
    "collapsed": false
   },
   "outputs": [
    {
     "name": "stdout",
     "output_type": "stream",
     "text": [
      "Populating the interactive namespace from numpy and matplotlib\n"
     ]
    }
   ],
   "source": [
    "import matplotlib.pyplot as plt\n",
    "%pylab inline"
   ]
  },
  {
   "cell_type": "markdown",
   "metadata": {},
   "source": [
    "## $1.\\:General$"
   ]
  },
  {
   "cell_type": "markdown",
   "metadata": {},
   "source": [
    "## a. Total number of flights per month"
   ]
  },
  {
   "cell_type": "code",
   "execution_count": 23,
   "metadata": {
    "collapsed": false
   },
   "outputs": [
    {
     "data": {
      "text/html": [
       "<div>\n",
       "<table border=\"1\" class=\"dataframe\">\n",
       "  <thead>\n",
       "    <tr style=\"text-align: right;\">\n",
       "      <th></th>\n",
       "      <th>FL_NUM</th>\n",
       "    </tr>\n",
       "    <tr>\n",
       "      <th>MONTH</th>\n",
       "      <th></th>\n",
       "    </tr>\n",
       "  </thead>\n",
       "  <tbody>\n",
       "    <tr>\n",
       "      <th>1</th>\n",
       "      <td>166802479</td>\n",
       "    </tr>\n",
       "    <tr>\n",
       "      <th>2</th>\n",
       "      <td>155733641</td>\n",
       "    </tr>\n",
       "    <tr>\n",
       "      <th>3</th>\n",
       "      <td>184935279</td>\n",
       "    </tr>\n",
       "    <tr>\n",
       "      <th>4</th>\n",
       "      <td>178974351</td>\n",
       "    </tr>\n",
       "    <tr>\n",
       "      <th>5</th>\n",
       "      <td>181183662</td>\n",
       "    </tr>\n",
       "  </tbody>\n",
       "</table>\n",
       "</div>"
      ],
      "text/plain": [
       "          FL_NUM\n",
       "MONTH           \n",
       "1      166802479\n",
       "2      155733641\n",
       "3      184935279\n",
       "4      178974351\n",
       "5      181183662"
      ]
     },
     "execution_count": 23,
     "metadata": {},
     "output_type": "execute_result"
    }
   ],
   "source": [
    "total = df_allData[['MONTH','FL_NUM']]\n",
    "total = total.groupby('MONTH').sum()\n",
    "total.head()"
   ]
  },
  {
   "cell_type": "code",
   "execution_count": 24,
   "metadata": {
    "collapsed": false,
    "scrolled": true
   },
   "outputs": [
    {
     "data": {
      "text/plain": [
       "<matplotlib.text.Text at 0x465a2828>"
      ]
     },
     "execution_count": 24,
     "metadata": {},
     "output_type": "execute_result"
    },
    {
     "data": {
      "image/png": "[encoded data removed]",
      "text/plain": [
       "<matplotlib.figure.Figure at 0x46560cf8>"
      ]
     },
     "metadata": {},
     "output_type": "display_data"
    }
   ],
   "source": [
    "plt.subplots(figsize=(10,5))\n",
    "obj = total.index\n",
    "y_pos = np.arange(len(obj))\n",
    "plt.bar(y_pos, total['FL_NUM'], align='center')\n",
    "\n",
    "plt.xticks(y_pos,obj)\n",
    "plt.xlabel(\"Month\", fontsize = '18')\n",
    "plt.title(\"Total number of Flights per Month\", fontsize = '20')\n",
    "plt.ylabel(\"Flights (hundreds of million)\",fontsize = '18')"
   ]
  },
  {
   "cell_type": "markdown",
   "metadata": {},
   "source": [
    "### Insight - There are more flights flying in the second half of the year, starting from July"
   ]
  },
  {
   "cell_type": "markdown",
   "metadata": {},
   "source": [
    "## b. Number of flights departing each hour in a Day throughout 2015"
   ]
  },
  {
   "cell_type": "code",
   "execution_count": 25,
   "metadata": {
    "collapsed": false
   },
   "outputs": [
    {
     "data": {
      "text/html": [
       "<div>\n",
       "<table border=\"1\" class=\"dataframe\">\n",
       "  <thead>\n",
       "    <tr style=\"text-align: right;\">\n",
       "      <th></th>\n",
       "      <th>FL_NUM</th>\n",
       "    </tr>\n",
       "    <tr>\n",
       "      <th>DEP_HOUR</th>\n",
       "      <th></th>\n",
       "    </tr>\n",
       "  </thead>\n",
       "  <tbody>\n",
       "    <tr>\n",
       "      <th>0</th>\n",
       "      <td>15348316</td>\n",
       "    </tr>\n",
       "    <tr>\n",
       "      <th>1</th>\n",
       "      <td>4612165</td>\n",
       "    </tr>\n",
       "    <tr>\n",
       "      <th>2</th>\n",
       "      <td>537749</td>\n",
       "    </tr>\n",
       "    <tr>\n",
       "      <th>3</th>\n",
       "      <td>121351</td>\n",
       "    </tr>\n",
       "    <tr>\n",
       "      <th>4</th>\n",
       "      <td>7130530</td>\n",
       "    </tr>\n",
       "  </tbody>\n",
       "</table>\n",
       "</div>"
      ],
      "text/plain": [
       "            FL_NUM\n",
       "DEP_HOUR          \n",
       "0         15348316\n",
       "1          4612165\n",
       "2           537749\n",
       "3           121351\n",
       "4          7130530"
      ]
     },
     "execution_count": 25,
     "metadata": {},
     "output_type": "execute_result"
    }
   ],
   "source": [
    "hourly_dep = notcancel[['DEP_HOUR','FL_NUM']]\n",
    "\n",
    "df1 = hourly_dep.groupby(['DEP_HOUR']).sum()\n",
    "df1.head()"
   ]
  },
  {
   "cell_type": "code",
   "execution_count": 26,
   "metadata": {
    "collapsed": false,
    "scrolled": true
   },
   "outputs": [
    {
     "data": {
      "text/plain": [
       "<matplotlib.axes._subplots.AxesSubplot at 0x46549ac8>"
      ]
     },
     "execution_count": 26,
     "metadata": {},
     "output_type": "execute_result"
    },
    {
     "data": {
      "image/png": "[encoded data removed]",
      "text/plain": [
       "<matplotlib.figure.Figure at 0x46549be0>"
      ]
     },
     "metadata": {},
     "output_type": "display_data"
    }
   ],
   "source": [
    "df1.plot()"
   ]
  },
  {
   "cell_type": "markdown",
   "metadata": {},
   "source": [
    "### Insight - Very less domestic flights take off from 11pm to 5am, daily."
   ]
  },
  {
   "cell_type": "markdown",
   "metadata": {},
   "source": [
    "## $2.\\:Comparison\\:of\\:the\\:carriers:$"
   ]
  },
  {
   "cell_type": "markdown",
   "metadata": {},
   "source": [
    "## a. Number of delayed flights of each carrier month wise"
   ]
  },
  {
   "cell_type": "markdown",
   "metadata": {},
   "source": [
    "### Assumption: Flights are delayed if they depart 15 (or more) minutes late"
   ]
  },
  {
   "cell_type": "code",
   "execution_count": 27,
   "metadata": {
    "collapsed": false
   },
   "outputs": [],
   "source": [
    "dep_delayed = notcancel[notcancel['DEP_DELAY'] > 15.0]"
   ]
  },
  {
   "cell_type": "code",
   "execution_count": 28,
   "metadata": {
    "collapsed": false
   },
   "outputs": [],
   "source": [
    "dep_delayedMonthly = dep_delayed[['MONTH', 'CARRIER', 'FL_NUM']]"
   ]
  },
  {
   "cell_type": "code",
   "execution_count": 29,
   "metadata": {
    "collapsed": false
   },
   "outputs": [],
   "source": [
    "dep_delayedMonthly111 = dep_delayedMonthly.groupby(['CARRIER','MONTH']).sum()\n",
    "ddm = dep_delayedMonthly111.unstack().T"
   ]
  },
  {
   "cell_type": "code",
   "execution_count": 30,
   "metadata": {
    "collapsed": false
   },
   "outputs": [],
   "source": [
    "ddm = ddm.reset_index(level=0)"
   ]
  },
  {
   "cell_type": "code",
   "execution_count": 31,
   "metadata": {
    "collapsed": false
   },
   "outputs": [
    {
     "data": {
      "text/html": [
       "<div>\n",
       "<table border=\"1\" class=\"dataframe\">\n",
       "  <thead>\n",
       "    <tr style=\"text-align: right;\">\n",
       "      <th>CARRIER</th>\n",
       "      <th>level_0</th>\n",
       "      <th>AA</th>\n",
       "      <th>AS</th>\n",
       "      <th>DL</th>\n",
       "    </tr>\n",
       "    <tr>\n",
       "      <th>MONTH</th>\n",
       "      <th></th>\n",
       "      <th></th>\n",
       "      <th></th>\n",
       "      <th></th>\n",
       "    </tr>\n",
       "  </thead>\n",
       "  <tbody>\n",
       "    <tr>\n",
       "      <th>1</th>\n",
       "      <td>FL_NUM</td>\n",
       "      <td>11017492</td>\n",
       "      <td>691856</td>\n",
       "      <td>12721439</td>\n",
       "    </tr>\n",
       "    <tr>\n",
       "      <th>2</th>\n",
       "      <td>FL_NUM</td>\n",
       "      <td>8314930</td>\n",
       "      <td>560875</td>\n",
       "      <td>18764183</td>\n",
       "    </tr>\n",
       "    <tr>\n",
       "      <th>3</th>\n",
       "      <td>FL_NUM</td>\n",
       "      <td>11644363</td>\n",
       "      <td>719158</td>\n",
       "      <td>17743596</td>\n",
       "    </tr>\n",
       "    <tr>\n",
       "      <th>4</th>\n",
       "      <td>FL_NUM</td>\n",
       "      <td>10697576</td>\n",
       "      <td>451556</td>\n",
       "      <td>14112875</td>\n",
       "    </tr>\n",
       "    <tr>\n",
       "      <th>5</th>\n",
       "      <td>FL_NUM</td>\n",
       "      <td>10606732</td>\n",
       "      <td>505029</td>\n",
       "      <td>15142517</td>\n",
       "    </tr>\n",
       "  </tbody>\n",
       "</table>\n",
       "</div>"
      ],
      "text/plain": [
       "CARRIER level_0        AA      AS        DL\n",
       "MONTH                                      \n",
       "1        FL_NUM  11017492  691856  12721439\n",
       "2        FL_NUM   8314930  560875  18764183\n",
       "3        FL_NUM  11644363  719158  17743596\n",
       "4        FL_NUM  10697576  451556  14112875\n",
       "5        FL_NUM  10606732  505029  15142517"
      ]
     },
     "execution_count": 31,
     "metadata": {},
     "output_type": "execute_result"
    }
   ],
   "source": [
    "ddm.head()"
   ]
  },
  {
   "cell_type": "code",
   "execution_count": 32,
   "metadata": {
    "collapsed": false
   },
   "outputs": [
    {
     "data": {
      "image/png": "[encoded data removed]",
      "text/plain": [
       "<matplotlib.figure.Figure at 0x469c8b00>"
      ]
     },
     "metadata": {},
     "output_type": "display_data"
    }
   ],
   "source": [
    "x = np.arange(len(ddm))\n",
    "bar_width = 0.3\n",
    "opacity = 0.5\n",
    "plt.subplots(figsize=(10,5))\n",
    "plt.bar(x, ddm['AA'], bar_width, color='green', label='American Airlines', alpha=opacity)\n",
    "plt.bar(x + bar_width, ddm['AS'], bar_width, color='red', label='Alaska Airlines', alpha=opacity)\n",
    "plt.bar(x + 2*bar_width, ddm['DL'], bar_width, color='yellow', label='Delta Airlines', alpha=opacity)\n",
    "plt.legend()\n",
    "plt.xlabel('Year', fontsize='18')\n",
    "plt.ylabel('Delayed Flights (in millions)', fontsize='18')\n",
    "plt.xticks(x+bar_width, np.arange(1,13))\n",
    "plt.show()"
   ]
  },
  {
   "cell_type": "markdown",
   "metadata": {},
   "source": [
    "### Insight - Alaska Airlines are hardly delayed as compared to AA and DL, Delta Airlines being the top among the three"
   ]
  },
  {
   "cell_type": "markdown",
   "metadata": {},
   "source": [
    "## b. Number of cancelled flights of each carrier month wise"
   ]
  },
  {
   "cell_type": "code",
   "execution_count": 33,
   "metadata": {
    "collapsed": false
   },
   "outputs": [],
   "source": [
    "cancel = df_allData[df_allData['CANCELLED'] == 1.0].drop(['DEP_TIME','ARR_TIME','DEP_DELAY','ARR_DELAY','AIR_TIME'], axis=1)\n",
    "cancel['CANCELLATION_CODE'] = cancel['CANCELLATION_CODE'].replace(to_replace = ['A','B','C','D'], value=['Carrier','Weather','National Air System','Security'])\n",
    "cancel_monthly = cancel[['MONTH', 'CARRIER', 'FL_NUM']]\n",
    "cancel_monthly111 = cancel_monthly.groupby(['CARRIER','MONTH']).sum()\n",
    "cm = cancel_monthly111.unstack().T"
   ]
  },
  {
   "cell_type": "code",
   "execution_count": 34,
   "metadata": {
    "collapsed": true
   },
   "outputs": [],
   "source": [
    "cm = cm.reset_index(level=0)"
   ]
  },
  {
   "cell_type": "code",
   "execution_count": 35,
   "metadata": {
    "collapsed": false
   },
   "outputs": [
    {
     "data": {
      "text/html": [
       "<div>\n",
       "<table border=\"1\" class=\"dataframe\">\n",
       "  <thead>\n",
       "    <tr style=\"text-align: right;\">\n",
       "      <th>CARRIER</th>\n",
       "      <th>level_0</th>\n",
       "      <th>AA</th>\n",
       "      <th>AS</th>\n",
       "      <th>DL</th>\n",
       "    </tr>\n",
       "    <tr>\n",
       "      <th>MONTH</th>\n",
       "      <th></th>\n",
       "      <th></th>\n",
       "      <th></th>\n",
       "      <th></th>\n",
       "    </tr>\n",
       "  </thead>\n",
       "  <tbody>\n",
       "    <tr>\n",
       "      <th>1</th>\n",
       "      <td>FL_NUM</td>\n",
       "      <td>1014453</td>\n",
       "      <td>10452</td>\n",
       "      <td>1146056</td>\n",
       "    </tr>\n",
       "    <tr>\n",
       "      <th>2</th>\n",
       "      <td>FL_NUM</td>\n",
       "      <td>3278618</td>\n",
       "      <td>18217</td>\n",
       "      <td>2888993</td>\n",
       "    </tr>\n",
       "    <tr>\n",
       "      <th>3</th>\n",
       "      <td>FL_NUM</td>\n",
       "      <td>1744874</td>\n",
       "      <td>7563</td>\n",
       "      <td>875952</td>\n",
       "    </tr>\n",
       "    <tr>\n",
       "      <th>4</th>\n",
       "      <td>FL_NUM</td>\n",
       "      <td>480650</td>\n",
       "      <td>13375</td>\n",
       "      <td>256120</td>\n",
       "    </tr>\n",
       "    <tr>\n",
       "      <th>5</th>\n",
       "      <td>FL_NUM</td>\n",
       "      <td>1233598</td>\n",
       "      <td>11048</td>\n",
       "      <td>233013</td>\n",
       "    </tr>\n",
       "  </tbody>\n",
       "</table>\n",
       "</div>"
      ],
      "text/plain": [
       "CARRIER level_0       AA     AS       DL\n",
       "MONTH                                   \n",
       "1        FL_NUM  1014453  10452  1146056\n",
       "2        FL_NUM  3278618  18217  2888993\n",
       "3        FL_NUM  1744874   7563   875952\n",
       "4        FL_NUM   480650  13375   256120\n",
       "5        FL_NUM  1233598  11048   233013"
      ]
     },
     "execution_count": 35,
     "metadata": {},
     "output_type": "execute_result"
    }
   ],
   "source": [
    "cm.head()"
   ]
  },
  {
   "cell_type": "code",
   "execution_count": 36,
   "metadata": {
    "collapsed": false
   },
   "outputs": [
    {
     "data": {
      "image/png": "[encoded data removed]",
      "text/plain": [
       "<matplotlib.figure.Figure at 0x469da080>"
      ]
     },
     "metadata": {},
     "output_type": "display_data"
    }
   ],
   "source": [
    "x = np.arange(len(cm))\n",
    "bar_width = 0.3\n",
    "opacity = 0.5\n",
    "plt.subplots(figsize=(10,5))\n",
    "plt.bar(x, cm['AA'], bar_width, color='green', label='American Airlines', alpha=opacity)\n",
    "plt.bar(x + bar_width, cm['AS'], bar_width, color='red', label='Alaska Airlines', alpha=opacity)\n",
    "plt.bar(x + 2*bar_width, cm['DL'], bar_width, color='yellow', label='Delta Airlines', alpha=opacity)\n",
    "plt.legend()\n",
    "plt.xlabel('Year', fontsize='18')\n",
    "plt.ylabel('Delayed Flights (in millions)', fontsize='18')\n",
    "plt.xticks(x+bar_width, np.arange(1,13))\n",
    "plt.show()"
   ]
  },
  {
   "cell_type": "markdown",
   "metadata": {},
   "source": [
    "### Insight - Again, Alaska Airlines rarely cancel their flights. Here, American Airlines rank top most among the three."
   ]
  },
  {
   "cell_type": "markdown",
   "metadata": {},
   "source": [
    "## c. Percentage of each reason for cancellation of flights"
   ]
  },
  {
   "cell_type": "code",
   "execution_count": 37,
   "metadata": {
    "collapsed": false,
    "scrolled": true
   },
   "outputs": [
    {
     "data": {
      "text/html": [
       "<div>\n",
       "<table border=\"1\" class=\"dataframe\">\n",
       "  <thead>\n",
       "    <tr style=\"text-align: right;\">\n",
       "      <th></th>\n",
       "      <th>CANCELLED</th>\n",
       "    </tr>\n",
       "    <tr>\n",
       "      <th>CANCELLATION_CODE</th>\n",
       "      <th></th>\n",
       "    </tr>\n",
       "  </thead>\n",
       "  <tbody>\n",
       "    <tr>\n",
       "      <th>Carrier</th>\n",
       "      <td>3807.0</td>\n",
       "    </tr>\n",
       "    <tr>\n",
       "      <th>National Air System</th>\n",
       "      <td>1005.0</td>\n",
       "    </tr>\n",
       "    <tr>\n",
       "      <th>Security</th>\n",
       "      <td>4.0</td>\n",
       "    </tr>\n",
       "    <tr>\n",
       "      <th>Weather</th>\n",
       "      <td>10596.0</td>\n",
       "    </tr>\n",
       "  </tbody>\n",
       "</table>\n",
       "</div>"
      ],
      "text/plain": [
       "                     CANCELLED\n",
       "CANCELLATION_CODE             \n",
       "Carrier                 3807.0\n",
       "National Air System     1005.0\n",
       "Security                   4.0\n",
       "Weather                10596.0"
      ]
     },
     "execution_count": 37,
     "metadata": {},
     "output_type": "execute_result"
    }
   ],
   "source": [
    "cancel_reason = cancel[['CANCELLATION_CODE','CANCELLED']].groupby('CANCELLATION_CODE').sum()\n",
    "cancel_reason"
   ]
  },
  {
   "cell_type": "code",
   "execution_count": 38,
   "metadata": {
    "collapsed": false
   },
   "outputs": [
    {
     "data": {
      "image/png": "[encoded data removed]",
      "text/plain": [
       "<matplotlib.figure.Figure at 0xf099048>"
      ]
     },
     "metadata": {},
     "output_type": "display_data"
    }
   ],
   "source": [
    "labels = 'Carrier', 'National Air System', 'Security', 'Weather'\n",
    "sizes = cancel_reason['CANCELLED']\n",
    "colors = ['yellow', 'skyblue', 'green', 'red']\n",
    "explode = (0, 0, 0, 0.1)\n",
    "\n",
    "plt.pie(sizes, explode=explode, labels=labels, colors=colors,\n",
    "        autopct='%1.1f%%', shadow=True, startangle=90)\n",
    "plt.axis('equal')\n",
    "plt.show()"
   ]
  },
  {
   "cell_type": "markdown",
   "metadata": {},
   "source": [
    "### Insight - Most flights are cancelled due to bad weather conditions (about 68.8%), the second most important reason is the carrier faults"
   ]
  },
  {
   "cell_type": "markdown",
   "metadata": {},
   "source": [
    "## $3.\\:Comparison\\:between\\:the\\:airports:$"
   ]
  },
  {
   "cell_type": "markdown",
   "metadata": {},
   "source": [
    "## a. Traffic analysis for top airports"
   ]
  },
  {
   "cell_type": "markdown",
   "metadata": {},
   "source": [
    "### Outbound flights:"
   ]
  },
  {
   "cell_type": "code",
   "execution_count": 39,
   "metadata": {
    "collapsed": true
   },
   "outputs": [],
   "source": [
    "df_airports = df_allData[['MONTH','DAY_OF_WEEK','ORIGIN','DEST','FL_NUM']]"
   ]
  },
  {
   "cell_type": "code",
   "execution_count": 40,
   "metadata": {
    "collapsed": false
   },
   "outputs": [],
   "source": [
    "outbound = df_airports[['MONTH','ORIGIN','FL_NUM']]\n",
    "outbound111 = outbound.groupby(['ORIGIN']).sum()\n",
    "out = outbound111.unstack().T"
   ]
  },
  {
   "cell_type": "code",
   "execution_count": 41,
   "metadata": {
    "collapsed": false
   },
   "outputs": [
    {
     "data": {
      "text/html": [
       "<div>\n",
       "<table border=\"1\" class=\"dataframe\">\n",
       "  <thead>\n",
       "    <tr style=\"text-align: right;\">\n",
       "      <th></th>\n",
       "      <th>level_0</th>\n",
       "      <th>0</th>\n",
       "    </tr>\n",
       "    <tr>\n",
       "      <th>ORIGIN</th>\n",
       "      <th></th>\n",
       "      <th></th>\n",
       "    </tr>\n",
       "  </thead>\n",
       "  <tbody>\n",
       "    <tr>\n",
       "      <th>ABE</th>\n",
       "      <td>MONTH</td>\n",
       "      <td>2243</td>\n",
       "    </tr>\n",
       "    <tr>\n",
       "      <th>ABQ</th>\n",
       "      <td>MONTH</td>\n",
       "      <td>26373</td>\n",
       "    </tr>\n",
       "    <tr>\n",
       "      <th>ADK</th>\n",
       "      <td>MONTH</td>\n",
       "      <td>685</td>\n",
       "    </tr>\n",
       "    <tr>\n",
       "      <th>ADQ</th>\n",
       "      <td>MONTH</td>\n",
       "      <td>3236</td>\n",
       "    </tr>\n",
       "    <tr>\n",
       "      <th>AGS</th>\n",
       "      <td>MONTH</td>\n",
       "      <td>4654</td>\n",
       "    </tr>\n",
       "  </tbody>\n",
       "</table>\n",
       "</div>"
      ],
      "text/plain": [
       "       level_0      0\n",
       "ORIGIN               \n",
       "ABE      MONTH   2243\n",
       "ABQ      MONTH  26373\n",
       "ADK      MONTH    685\n",
       "ADQ      MONTH   3236\n",
       "AGS      MONTH   4654"
      ]
     },
     "execution_count": 41,
     "metadata": {},
     "output_type": "execute_result"
    }
   ],
   "source": [
    "out = out.reset_index(level=0)\n",
    "out.head()"
   ]
  },
  {
   "cell_type": "code",
   "execution_count": 42,
   "metadata": {
    "collapsed": false
   },
   "outputs": [],
   "source": [
    "out = out.rename(columns = {0:'Flights'})"
   ]
  },
  {
   "cell_type": "code",
   "execution_count": 43,
   "metadata": {
    "collapsed": false
   },
   "outputs": [
    {
     "data": {
      "text/html": [
       "<div>\n",
       "<table border=\"1\" class=\"dataframe\">\n",
       "  <thead>\n",
       "    <tr style=\"text-align: right;\">\n",
       "      <th></th>\n",
       "      <th>level_0</th>\n",
       "      <th>Flights</th>\n",
       "    </tr>\n",
       "    <tr>\n",
       "      <th>ORIGIN</th>\n",
       "      <th></th>\n",
       "      <th></th>\n",
       "    </tr>\n",
       "  </thead>\n",
       "  <tbody>\n",
       "    <tr>\n",
       "      <th>ATL</th>\n",
       "      <td>FL_NUM</td>\n",
       "      <td>407552835</td>\n",
       "    </tr>\n",
       "    <tr>\n",
       "      <th>DFW</th>\n",
       "      <td>FL_NUM</td>\n",
       "      <td>219231739</td>\n",
       "    </tr>\n",
       "    <tr>\n",
       "      <th>MSP</th>\n",
       "      <td>FL_NUM</td>\n",
       "      <td>111263458</td>\n",
       "    </tr>\n",
       "    <tr>\n",
       "      <th>DTW</th>\n",
       "      <td>FL_NUM</td>\n",
       "      <td>94007083</td>\n",
       "    </tr>\n",
       "    <tr>\n",
       "      <th>CLT</th>\n",
       "      <td>FL_NUM</td>\n",
       "      <td>87941289</td>\n",
       "    </tr>\n",
       "  </tbody>\n",
       "</table>\n",
       "</div>"
      ],
      "text/plain": [
       "       level_0    Flights\n",
       "ORIGIN                   \n",
       "ATL     FL_NUM  407552835\n",
       "DFW     FL_NUM  219231739\n",
       "MSP     FL_NUM  111263458\n",
       "DTW     FL_NUM   94007083\n",
       "CLT     FL_NUM   87941289"
      ]
     },
     "execution_count": 43,
     "metadata": {},
     "output_type": "execute_result"
    }
   ],
   "source": [
    "out1 = out.sort_values(by = ['Flights'], ascending=False)[:10]\n",
    "out1.head()"
   ]
  },
  {
   "cell_type": "code",
   "execution_count": 44,
   "metadata": {
    "collapsed": false
   },
   "outputs": [
    {
     "data": {
      "image/png": "[encoded data removed]",
      "text/plain": [
       "<matplotlib.figure.Figure at 0x46887f98>"
      ]
     },
     "metadata": {},
     "output_type": "display_data"
    }
   ],
   "source": [
    "plt.subplots(figsize=(10,5))\n",
    "obj = out1.index\n",
    "y_pos = np.arange(len(obj))\n",
    "plt.bar(y_pos, out1['Flights'], align='center')\n",
    "\n",
    "plt.xticks(y_pos, obj)\n",
    "plt.xlabel(\"Airport\", fontsize = '18')\n",
    "plt.title(\"Outbound flights per airport\", fontsize = '20')\n",
    "plt.ylabel(\"Flights (in hundreds of million)\",fontsize = '18')\n",
    "plt.show()"
   ]
  },
  {
   "cell_type": "markdown",
   "metadata": {},
   "source": [
    "### Inbound flights:"
   ]
  },
  {
   "cell_type": "code",
   "execution_count": 45,
   "metadata": {
    "collapsed": false
   },
   "outputs": [],
   "source": [
    "inbound = df_airports[['MONTH','DEST','FL_NUM']]\n",
    "inbound111 = inbound.groupby(['DEST']).sum()\n",
    "inb = inbound111.unstack().T"
   ]
  },
  {
   "cell_type": "code",
   "execution_count": 46,
   "metadata": {
    "collapsed": false
   },
   "outputs": [
    {
     "data": {
      "text/html": [
       "<div>\n",
       "<table border=\"1\" class=\"dataframe\">\n",
       "  <thead>\n",
       "    <tr style=\"text-align: right;\">\n",
       "      <th></th>\n",
       "      <th>level_0</th>\n",
       "      <th>0</th>\n",
       "    </tr>\n",
       "    <tr>\n",
       "      <th>DEST</th>\n",
       "      <th></th>\n",
       "      <th></th>\n",
       "    </tr>\n",
       "  </thead>\n",
       "  <tbody>\n",
       "    <tr>\n",
       "      <th>ABE</th>\n",
       "      <td>MONTH</td>\n",
       "      <td>2234</td>\n",
       "    </tr>\n",
       "    <tr>\n",
       "      <th>ABQ</th>\n",
       "      <td>MONTH</td>\n",
       "      <td>26362</td>\n",
       "    </tr>\n",
       "    <tr>\n",
       "      <th>ADK</th>\n",
       "      <td>MONTH</td>\n",
       "      <td>685</td>\n",
       "    </tr>\n",
       "    <tr>\n",
       "      <th>ADQ</th>\n",
       "      <td>MONTH</td>\n",
       "      <td>3236</td>\n",
       "    </tr>\n",
       "    <tr>\n",
       "      <th>AGS</th>\n",
       "      <td>MONTH</td>\n",
       "      <td>4637</td>\n",
       "    </tr>\n",
       "  </tbody>\n",
       "</table>\n",
       "</div>"
      ],
      "text/plain": [
       "     level_0      0\n",
       "DEST               \n",
       "ABE    MONTH   2234\n",
       "ABQ    MONTH  26362\n",
       "ADK    MONTH    685\n",
       "ADQ    MONTH   3236\n",
       "AGS    MONTH   4637"
      ]
     },
     "execution_count": 46,
     "metadata": {},
     "output_type": "execute_result"
    }
   ],
   "source": [
    "inb = inb.reset_index(level=0)\n",
    "inb.head()"
   ]
  },
  {
   "cell_type": "code",
   "execution_count": 47,
   "metadata": {
    "collapsed": true
   },
   "outputs": [],
   "source": [
    "inb = inb.rename(columns = {0:'Flights'})"
   ]
  },
  {
   "cell_type": "code",
   "execution_count": 48,
   "metadata": {
    "collapsed": false
   },
   "outputs": [
    {
     "data": {
      "text/html": [
       "<div>\n",
       "<table border=\"1\" class=\"dataframe\">\n",
       "  <thead>\n",
       "    <tr style=\"text-align: right;\">\n",
       "      <th></th>\n",
       "      <th>level_0</th>\n",
       "      <th>Flights</th>\n",
       "    </tr>\n",
       "    <tr>\n",
       "      <th>DEST</th>\n",
       "      <th></th>\n",
       "      <th></th>\n",
       "    </tr>\n",
       "  </thead>\n",
       "  <tbody>\n",
       "    <tr>\n",
       "      <th>ATL</th>\n",
       "      <td>FL_NUM</td>\n",
       "      <td>398409162</td>\n",
       "    </tr>\n",
       "    <tr>\n",
       "      <th>DFW</th>\n",
       "      <td>FL_NUM</td>\n",
       "      <td>210632026</td>\n",
       "    </tr>\n",
       "    <tr>\n",
       "      <th>MSP</th>\n",
       "      <td>FL_NUM</td>\n",
       "      <td>108299123</td>\n",
       "    </tr>\n",
       "    <tr>\n",
       "      <th>DTW</th>\n",
       "      <td>FL_NUM</td>\n",
       "      <td>89621564</td>\n",
       "    </tr>\n",
       "    <tr>\n",
       "      <th>LAX</th>\n",
       "      <td>FL_NUM</td>\n",
       "      <td>84916365</td>\n",
       "    </tr>\n",
       "  </tbody>\n",
       "</table>\n",
       "</div>"
      ],
      "text/plain": [
       "     level_0    Flights\n",
       "DEST                   \n",
       "ATL   FL_NUM  398409162\n",
       "DFW   FL_NUM  210632026\n",
       "MSP   FL_NUM  108299123\n",
       "DTW   FL_NUM   89621564\n",
       "LAX   FL_NUM   84916365"
      ]
     },
     "execution_count": 48,
     "metadata": {},
     "output_type": "execute_result"
    }
   ],
   "source": [
    "in1 = inb.sort_values(by = ['Flights'], ascending=False)[:10]\n",
    "in1.head()"
   ]
  },
  {
   "cell_type": "code",
   "execution_count": 49,
   "metadata": {
    "collapsed": false
   },
   "outputs": [
    {
     "data": {
      "image/png": "[encoded data removed]",
      "text/plain": [
       "<matplotlib.figure.Figure at 0xc029f60>"
      ]
     },
     "metadata": {},
     "output_type": "display_data"
    }
   ],
   "source": [
    "plt.subplots(figsize=(10,5))\n",
    "obj = in1.index\n",
    "y_pos = np.arange(len(obj))\n",
    "plt.bar(y_pos, in1['Flights'], align='center')\n",
    "\n",
    "plt.xticks(y_pos, obj)\n",
    "plt.xlabel(\"Airport\", fontsize = '18')\n",
    "plt.title(\"Inbound flights per airport\", fontsize = '20')\n",
    "plt.ylabel(\"Flights (in hundreds of million)\",fontsize = '18')\n",
    "plt.show()"
   ]
  },
  {
   "cell_type": "markdown",
   "metadata": {},
   "source": [
    "### Insight - ATL, DFW, MSP are the busiest airports in the US for domestic flights"
   ]
  },
  {
   "cell_type": "markdown",
   "metadata": {},
   "source": [
    "## b. Analysis for ATL (Hartsfield–Jackson Atlanta) Airport"
   ]
  },
  {
   "cell_type": "code",
   "execution_count": 50,
   "metadata": {
    "collapsed": false
   },
   "outputs": [
    {
     "data": {
      "text/html": [
       "<div>\n",
       "<table border=\"1\" class=\"dataframe\">\n",
       "  <thead>\n",
       "    <tr style=\"text-align: right;\">\n",
       "      <th></th>\n",
       "      <th>FL_NUM</th>\n",
       "    </tr>\n",
       "    <tr>\n",
       "      <th>MONTH</th>\n",
       "      <th></th>\n",
       "    </tr>\n",
       "  </thead>\n",
       "  <tbody>\n",
       "    <tr>\n",
       "      <th>1</th>\n",
       "      <td>30034824</td>\n",
       "    </tr>\n",
       "    <tr>\n",
       "      <th>2</th>\n",
       "      <td>28912913</td>\n",
       "    </tr>\n",
       "    <tr>\n",
       "      <th>3</th>\n",
       "      <td>34257428</td>\n",
       "    </tr>\n",
       "    <tr>\n",
       "      <th>4</th>\n",
       "      <td>33639025</td>\n",
       "    </tr>\n",
       "    <tr>\n",
       "      <th>5</th>\n",
       "      <td>34633492</td>\n",
       "    </tr>\n",
       "  </tbody>\n",
       "</table>\n",
       "</div>"
      ],
      "text/plain": [
       "         FL_NUM\n",
       "MONTH          \n",
       "1      30034824\n",
       "2      28912913\n",
       "3      34257428\n",
       "4      33639025\n",
       "5      34633492"
      ]
     },
     "execution_count": 50,
     "metadata": {},
     "output_type": "execute_result"
    }
   ],
   "source": [
    "ATL_out = df_airports[['MONTH','ORIGIN','FL_NUM']][df_airports['ORIGIN'] == 'ATL'].groupby('MONTH').sum()\n",
    "ATL_in = df_airports[['MONTH','DEST','FL_NUM']][df_airports['DEST'] == 'ATL'].groupby('MONTH').sum()\n",
    "ATL_out.head()"
   ]
  },
  {
   "cell_type": "code",
   "execution_count": 51,
   "metadata": {
    "collapsed": false
   },
   "outputs": [
    {
     "data": {
      "image/png": "[encoded data removed]",
      "text/plain": [
       "<matplotlib.figure.Figure at 0xb5b3d68>"
      ]
     },
     "metadata": {},
     "output_type": "display_data"
    }
   ],
   "source": [
    "x = np.arange(len(ATL_out))\n",
    "bar_width = 0.4\n",
    "opacity = 0.5\n",
    "plt.subplots(figsize=(10,5))\n",
    "plt.bar(x, ATL_out['FL_NUM'], bar_width, color='green', label='Outbound', alpha=opacity)\n",
    "plt.bar(x + bar_width, ATL_in['FL_NUM'], bar_width, color='red', label='Inbound', alpha=opacity)\n",
    "\n",
    "plt.legend()\n",
    "plt.xlabel('Month', fontsize='18')\n",
    "plt.ylabel('Flights (in tens of millions)', fontsize='18')\n",
    "plt.xticks(x+bar_width, np.arange(1,13))\n",
    "plt.show()"
   ]
  },
  {
   "cell_type": "markdown",
   "metadata": {},
   "source": [
    "### Insight - We can see that it's a busy airport, having almost equal number of outbound and inbound flights. This could mean that it is a connecting airport."
   ]
  },
  {
   "cell_type": "markdown",
   "metadata": {},
   "source": [
    "## Just out of Curiosity, I would like to analyze RSW (Southwest Florida International) Airport, because Florida is a tourist place."
   ]
  },
  {
   "cell_type": "code",
   "execution_count": 52,
   "metadata": {
    "collapsed": false
   },
   "outputs": [
    {
     "data": {
      "image/png": "[encoded data removed]",
      "text/plain": [
       "<matplotlib.figure.Figure at 0xcc247b8>"
      ]
     },
     "metadata": {},
     "output_type": "display_data"
    }
   ],
   "source": [
    "RSW_out = df_airports[['MONTH','ORIGIN','FL_NUM']][df_airports['ORIGIN'] == 'RSW'].groupby('MONTH').sum()\n",
    "RSW_in = df_airports[['MONTH','DEST','FL_NUM']][df_airports['DEST'] == 'RSW'].groupby('MONTH').sum()\n",
    "\n",
    "x = np.arange(len(RSW_out))\n",
    "bar_width = 0.4\n",
    "opacity = 0.5\n",
    "plt.subplots(figsize=(10,5))\n",
    "plt.bar(x, RSW_out['FL_NUM'], bar_width, color='green', label='Outbound', alpha=opacity)\n",
    "plt.bar(x + bar_width, RSW_in['FL_NUM'], bar_width, color='red', label='Inbound', alpha=opacity)\n",
    "\n",
    "#plt.legend()\n",
    "plt.xlabel('Month', fontsize='18')\n",
    "plt.ylabel('Flights (in tens of millions)', fontsize='18')\n",
    "plt.xticks(x+bar_width, np.arange(1,13))\n",
    "plt.show()"
   ]
  },
  {
   "cell_type": "markdown",
   "metadata": {},
   "source": [
    "### Insight - Looks like people usually fly to Florida in December and May; and there are many outbound flights in January and February. This can give a reason of Florida being a tourist place where people mostly enjoy in the months of May and December."
   ]
  },
  {
   "cell_type": "markdown",
   "metadata": {},
   "source": [
    "___"
   ]
  },
  {
   "cell_type": "markdown",
   "metadata": {},
   "source": [
    "# $$Machine \\:Learning \\:Techniques$$"
   ]
  },
  {
   "cell_type": "markdown",
   "metadata": {},
   "source": [
    "## $1.\\:Linear\\:Regression\\:Model$"
   ]
  },
  {
   "cell_type": "markdown",
   "metadata": {},
   "source": [
    "### Build Training dataset with data from first 8 months and Test dataset from last 4 months."
   ]
  },
  {
   "cell_type": "code",
   "execution_count": 53,
   "metadata": {
    "collapsed": false
   },
   "outputs": [],
   "source": [
    "df_trainData = notcancel[notcancel['MONTH'] <= 8]"
   ]
  },
  {
   "cell_type": "code",
   "execution_count": 54,
   "metadata": {
    "collapsed": true
   },
   "outputs": [],
   "source": [
    "airports = pd.read_csv('L_AIRPORT.csv')\n",
    "airports_dict = dict([(i,j) for i,j in zip(np.arange(len(airports)), airports.Code)])\n",
    "airports_dict = {v:k for k,v in airports_dict.iteritems()}"
   ]
  },
  {
   "cell_type": "code",
   "execution_count": 55,
   "metadata": {
    "collapsed": false
   },
   "outputs": [
    {
     "name": "stderr",
     "output_type": "stream",
     "text": [
      "C:\\Users\\NeerajB\\AppData\\Local\\Enthought\\Canopy\\User\\lib\\site-packages\\ipykernel\\__main__.py:1: SettingWithCopyWarning: \n",
      "A value is trying to be set on a copy of a slice from a DataFrame.\n",
      "Try using .loc[row_indexer,col_indexer] = value instead\n",
      "\n",
      "See the caveats in the documentation: http://pandas.pydata.org/pandas-docs/stable/indexing.html#indexing-view-versus-copy\n",
      "  if __name__ == '__main__':\n",
      "C:\\Users\\NeerajB\\AppData\\Local\\Enthought\\Canopy\\User\\lib\\site-packages\\ipykernel\\__main__.py:2: SettingWithCopyWarning: \n",
      "A value is trying to be set on a copy of a slice from a DataFrame.\n",
      "Try using .loc[row_indexer,col_indexer] = value instead\n",
      "\n",
      "See the caveats in the documentation: http://pandas.pydata.org/pandas-docs/stable/indexing.html#indexing-view-versus-copy\n",
      "  from ipykernel import kernelapp as app\n"
     ]
    }
   ],
   "source": [
    "df_trainData['ORIGIN'] = map(airports_dict.get, df_trainData['ORIGIN'], df_trainData['ORIGIN'])\n",
    "df_trainData['DEST'] = map(airports_dict.get, df_trainData['DEST'], df_trainData['DEST'])"
   ]
  },
  {
   "cell_type": "code",
   "execution_count": 56,
   "metadata": {
    "collapsed": false,
    "scrolled": true
   },
   "outputs": [
    {
     "data": {
      "text/html": [
       "<div>\n",
       "<table border=\"1\" class=\"dataframe\">\n",
       "  <thead>\n",
       "    <tr style=\"text-align: right;\">\n",
       "      <th></th>\n",
       "      <th>MONTH</th>\n",
       "      <th>DAY_OF_WEEK</th>\n",
       "      <th>ORIGIN</th>\n",
       "      <th>DEST</th>\n",
       "      <th>DEP_DELAY</th>\n",
       "      <th>AIR_TIME</th>\n",
       "      <th>DISTANCE</th>\n",
       "      <th>DEP_HOUR</th>\n",
       "      <th>ARR_HOUR</th>\n",
       "    </tr>\n",
       "  </thead>\n",
       "  <tbody>\n",
       "    <tr>\n",
       "      <th>0</th>\n",
       "      <td>1</td>\n",
       "      <td>4</td>\n",
       "      <td>2532</td>\n",
       "      <td>2934</td>\n",
       "      <td>-5.0</td>\n",
       "      <td>378.0</td>\n",
       "      <td>2475.0</td>\n",
       "      <td>8</td>\n",
       "      <td>12</td>\n",
       "    </tr>\n",
       "    <tr>\n",
       "      <th>1</th>\n",
       "      <td>1</td>\n",
       "      <td>5</td>\n",
       "      <td>2532</td>\n",
       "      <td>2934</td>\n",
       "      <td>-10.0</td>\n",
       "      <td>357.0</td>\n",
       "      <td>2475.0</td>\n",
       "      <td>8</td>\n",
       "      <td>12</td>\n",
       "    </tr>\n",
       "    <tr>\n",
       "      <th>2</th>\n",
       "      <td>1</td>\n",
       "      <td>6</td>\n",
       "      <td>2532</td>\n",
       "      <td>2934</td>\n",
       "      <td>-7.0</td>\n",
       "      <td>330.0</td>\n",
       "      <td>2475.0</td>\n",
       "      <td>8</td>\n",
       "      <td>11</td>\n",
       "    </tr>\n",
       "    <tr>\n",
       "      <th>3</th>\n",
       "      <td>1</td>\n",
       "      <td>7</td>\n",
       "      <td>2532</td>\n",
       "      <td>2934</td>\n",
       "      <td>-7.0</td>\n",
       "      <td>352.0</td>\n",
       "      <td>2475.0</td>\n",
       "      <td>8</td>\n",
       "      <td>12</td>\n",
       "    </tr>\n",
       "    <tr>\n",
       "      <th>4</th>\n",
       "      <td>1</td>\n",
       "      <td>1</td>\n",
       "      <td>2532</td>\n",
       "      <td>2934</td>\n",
       "      <td>-7.0</td>\n",
       "      <td>338.0</td>\n",
       "      <td>2475.0</td>\n",
       "      <td>8</td>\n",
       "      <td>12</td>\n",
       "    </tr>\n",
       "  </tbody>\n",
       "</table>\n",
       "</div>"
      ],
      "text/plain": [
       "   MONTH  DAY_OF_WEEK  ORIGIN  DEST  DEP_DELAY  AIR_TIME  DISTANCE  DEP_HOUR  \\\n",
       "0      1            4    2532  2934       -5.0     378.0    2475.0         8   \n",
       "1      1            5    2532  2934      -10.0     357.0    2475.0         8   \n",
       "2      1            6    2532  2934       -7.0     330.0    2475.0         8   \n",
       "3      1            7    2532  2934       -7.0     352.0    2475.0         8   \n",
       "4      1            1    2532  2934       -7.0     338.0    2475.0         8   \n",
       "\n",
       "   ARR_HOUR  \n",
       "0        12  \n",
       "1        12  \n",
       "2        11  \n",
       "3        12  \n",
       "4        12  "
      ]
     },
     "execution_count": 56,
     "metadata": {},
     "output_type": "execute_result"
    }
   ],
   "source": [
    "X_train = df_trainData.drop(['YEAR','DAY_OF_MONTH','DEP_MIN','ARR_MIN','CARRIER','ARR_DELAY','CANCELLED','DEP_TIME','ARR_TIME','FL_NUM'],1)\n",
    "X_train.head()"
   ]
  },
  {
   "cell_type": "code",
   "execution_count": 57,
   "metadata": {
    "collapsed": false
   },
   "outputs": [],
   "source": [
    "Y_train = df_trainData['ARR_DELAY']"
   ]
  },
  {
   "cell_type": "code",
   "execution_count": 58,
   "metadata": {
    "collapsed": false,
    "scrolled": false
   },
   "outputs": [
    {
     "name": "stderr",
     "output_type": "stream",
     "text": [
      "C:\\Users\\NeerajB\\AppData\\Local\\Enthought\\Canopy\\User\\lib\\site-packages\\ipykernel\\__main__.py:3: SettingWithCopyWarning: \n",
      "A value is trying to be set on a copy of a slice from a DataFrame.\n",
      "Try using .loc[row_indexer,col_indexer] = value instead\n",
      "\n",
      "See the caveats in the documentation: http://pandas.pydata.org/pandas-docs/stable/indexing.html#indexing-view-versus-copy\n",
      "  app.launch_new_instance()\n",
      "C:\\Users\\NeerajB\\AppData\\Local\\Enthought\\Canopy\\User\\lib\\site-packages\\ipykernel\\__main__.py:4: SettingWithCopyWarning: \n",
      "A value is trying to be set on a copy of a slice from a DataFrame.\n",
      "Try using .loc[row_indexer,col_indexer] = value instead\n",
      "\n",
      "See the caveats in the documentation: http://pandas.pydata.org/pandas-docs/stable/indexing.html#indexing-view-versus-copy\n"
     ]
    },
    {
     "data": {
      "text/html": [
       "<div>\n",
       "<table border=\"1\" class=\"dataframe\">\n",
       "  <thead>\n",
       "    <tr style=\"text-align: right;\">\n",
       "      <th></th>\n",
       "      <th>MONTH</th>\n",
       "      <th>DAY_OF_WEEK</th>\n",
       "      <th>ORIGIN</th>\n",
       "      <th>DEST</th>\n",
       "      <th>DEP_DELAY</th>\n",
       "      <th>AIR_TIME</th>\n",
       "      <th>DISTANCE</th>\n",
       "      <th>DEP_HOUR</th>\n",
       "      <th>ARR_HOUR</th>\n",
       "    </tr>\n",
       "  </thead>\n",
       "  <tbody>\n",
       "    <tr>\n",
       "      <th>1125655</th>\n",
       "      <td>9</td>\n",
       "      <td>2</td>\n",
       "      <td>2532</td>\n",
       "      <td>2934</td>\n",
       "      <td>-7.0</td>\n",
       "      <td>316.0</td>\n",
       "      <td>2475.0</td>\n",
       "      <td>8</td>\n",
       "      <td>11</td>\n",
       "    </tr>\n",
       "    <tr>\n",
       "      <th>1125656</th>\n",
       "      <td>9</td>\n",
       "      <td>3</td>\n",
       "      <td>2532</td>\n",
       "      <td>2934</td>\n",
       "      <td>-6.0</td>\n",
       "      <td>310.0</td>\n",
       "      <td>2475.0</td>\n",
       "      <td>8</td>\n",
       "      <td>12</td>\n",
       "    </tr>\n",
       "    <tr>\n",
       "      <th>1125657</th>\n",
       "      <td>9</td>\n",
       "      <td>4</td>\n",
       "      <td>2532</td>\n",
       "      <td>2934</td>\n",
       "      <td>-3.0</td>\n",
       "      <td>314.0</td>\n",
       "      <td>2475.0</td>\n",
       "      <td>8</td>\n",
       "      <td>11</td>\n",
       "    </tr>\n",
       "    <tr>\n",
       "      <th>1125658</th>\n",
       "      <td>9</td>\n",
       "      <td>5</td>\n",
       "      <td>2532</td>\n",
       "      <td>2934</td>\n",
       "      <td>-8.0</td>\n",
       "      <td>322.0</td>\n",
       "      <td>2475.0</td>\n",
       "      <td>8</td>\n",
       "      <td>11</td>\n",
       "    </tr>\n",
       "    <tr>\n",
       "      <th>1125659</th>\n",
       "      <td>9</td>\n",
       "      <td>6</td>\n",
       "      <td>2532</td>\n",
       "      <td>2934</td>\n",
       "      <td>-3.0</td>\n",
       "      <td>314.0</td>\n",
       "      <td>2475.0</td>\n",
       "      <td>8</td>\n",
       "      <td>11</td>\n",
       "    </tr>\n",
       "  </tbody>\n",
       "</table>\n",
       "</div>"
      ],
      "text/plain": [
       "         MONTH  DAY_OF_WEEK  ORIGIN  DEST  DEP_DELAY  AIR_TIME  DISTANCE  \\\n",
       "1125655      9            2    2532  2934       -7.0     316.0    2475.0   \n",
       "1125656      9            3    2532  2934       -6.0     310.0    2475.0   \n",
       "1125657      9            4    2532  2934       -3.0     314.0    2475.0   \n",
       "1125658      9            5    2532  2934       -8.0     322.0    2475.0   \n",
       "1125659      9            6    2532  2934       -3.0     314.0    2475.0   \n",
       "\n",
       "         DEP_HOUR  ARR_HOUR  \n",
       "1125655         8        11  \n",
       "1125656         8        12  \n",
       "1125657         8        11  \n",
       "1125658         8        11  \n",
       "1125659         8        11  "
      ]
     },
     "execution_count": 58,
     "metadata": {},
     "output_type": "execute_result"
    }
   ],
   "source": [
    "df_testData = notcancel[notcancel['MONTH'] > 8]\n",
    "\n",
    "df_testData['ORIGIN'] = map(airports_dict.get, df_testData['ORIGIN'], df_testData['ORIGIN'])\n",
    "df_testData['DEST'] = map(airports_dict.get, df_testData['DEST'], df_testData['DEST'])\n",
    "\n",
    "X_test = df_testData.drop(['YEAR','DAY_OF_MONTH','DEP_MIN','ARR_MIN','CARRIER','ARR_DELAY','CANCELLED','DEP_TIME','ARR_TIME','FL_NUM'],1)\n",
    "\n",
    "#X_test = X_test.dropna(how='any', axis=0)\n",
    "X_test.head()"
   ]
  },
  {
   "cell_type": "code",
   "execution_count": 59,
   "metadata": {
    "collapsed": false
   },
   "outputs": [],
   "source": [
    "Y_test = df_testData['ARR_DELAY']"
   ]
  },
  {
   "cell_type": "code",
   "execution_count": 60,
   "metadata": {
    "collapsed": false
   },
   "outputs": [],
   "source": [
    "import sklearn\n",
    "from sklearn.linear_model import LinearRegression"
   ]
  },
  {
   "cell_type": "code",
   "execution_count": 61,
   "metadata": {
    "collapsed": true
   },
   "outputs": [],
   "source": [
    "lrmodel = LinearRegression()"
   ]
  },
  {
   "cell_type": "code",
   "execution_count": 62,
   "metadata": {
    "collapsed": false,
    "scrolled": true
   },
   "outputs": [
    {
     "data": {
      "text/plain": [
       "LinearRegression(copy_X=True, fit_intercept=True, n_jobs=1, normalize=False)"
      ]
     },
     "execution_count": 62,
     "metadata": {},
     "output_type": "execute_result"
    }
   ],
   "source": [
    "lrmodel.fit(X_train, Y_train)"
   ]
  },
  {
   "cell_type": "code",
   "execution_count": 63,
   "metadata": {
    "collapsed": false
   },
   "outputs": [
    {
     "data": {
      "text/html": [
       "<div>\n",
       "<table border=\"1\" class=\"dataframe\">\n",
       "  <thead>\n",
       "    <tr style=\"text-align: right;\">\n",
       "      <th></th>\n",
       "      <th>Coefficient</th>\n",
       "    </tr>\n",
       "  </thead>\n",
       "  <tbody>\n",
       "    <tr>\n",
       "      <th>MONTH</th>\n",
       "      <td>0.02957</td>\n",
       "    </tr>\n",
       "    <tr>\n",
       "      <th>DAY_OF_WEEK</th>\n",
       "      <td>-0.14393</td>\n",
       "    </tr>\n",
       "    <tr>\n",
       "      <th>ORIGIN</th>\n",
       "      <td>0.00074</td>\n",
       "    </tr>\n",
       "    <tr>\n",
       "      <th>DEST</th>\n",
       "      <td>0.00015</td>\n",
       "    </tr>\n",
       "    <tr>\n",
       "      <th>DEP_DELAY</th>\n",
       "      <td>1.00360</td>\n",
       "    </tr>\n",
       "    <tr>\n",
       "      <th>AIR_TIME</th>\n",
       "      <td>0.36218</td>\n",
       "    </tr>\n",
       "    <tr>\n",
       "      <th>DISTANCE</th>\n",
       "      <td>-0.04459</td>\n",
       "    </tr>\n",
       "    <tr>\n",
       "      <th>DEP_HOUR</th>\n",
       "      <td>-0.04446</td>\n",
       "    </tr>\n",
       "    <tr>\n",
       "      <th>ARR_HOUR</th>\n",
       "      <td>-0.02465</td>\n",
       "    </tr>\n",
       "  </tbody>\n",
       "</table>\n",
       "</div>"
      ],
      "text/plain": [
       "            Coefficient\n",
       "MONTH           0.02957\n",
       "DAY_OF_WEEK    -0.14393\n",
       "ORIGIN          0.00074\n",
       "DEST            0.00015\n",
       "DEP_DELAY       1.00360\n",
       "AIR_TIME        0.36218\n",
       "DISTANCE       -0.04459\n",
       "DEP_HOUR       -0.04446\n",
       "ARR_HOUR       -0.02465"
      ]
     },
     "execution_count": 63,
     "metadata": {},
     "output_type": "execute_result"
    }
   ],
   "source": [
    "pd.DataFrame(['%.5f' %x for x in lrmodel.coef_],X_train.columns, columns=['Coefficient'])"
   ]
  },
  {
   "cell_type": "markdown",
   "metadata": {},
   "source": [
    "### Prediction and Calculating mean square errors:"
   ]
  },
  {
   "cell_type": "code",
   "execution_count": 64,
   "metadata": {
    "collapsed": false,
    "scrolled": true
   },
   "outputs": [
    {
     "name": "stdout",
     "output_type": "stream",
     "text": [
      "MSE for training dataset = 159.586\n",
      "MSE for test dataset = 150.685\n"
     ]
    }
   ],
   "source": [
    "pred_train = lrmodel.predict(X_train)\n",
    "pred_test = lrmodel.predict(X_test)\n",
    "\n",
    "mse_train = np.mean((Y_train - pred_train) ** 2)\n",
    "mse_test =  np.mean((Y_test - pred_test) ** 2)\n",
    "\n",
    "print 'MSE for training dataset = %.3f' %mse_train\n",
    "print 'MSE for test dataset = %.3f' %mse_test"
   ]
  },
  {
   "cell_type": "code",
   "execution_count": 65,
   "metadata": {
    "collapsed": false,
    "scrolled": true
   },
   "outputs": [
    {
     "name": "stdout",
     "output_type": "stream",
     "text": [
      "Accuracy of Linear Regression (r-squarred value) = 0.89\n"
     ]
    }
   ],
   "source": [
    "print 'Accuracy of Linear Regression (r-squarred value) = %.2f' % sklearn.metrics.r2_score(Y_test, pred_test)"
   ]
  },
  {
   "cell_type": "markdown",
   "metadata": {},
   "source": [
    "### Showing some random predictions:"
   ]
  },
  {
   "cell_type": "code",
   "execution_count": 66,
   "metadata": {
    "collapsed": false
   },
   "outputs": [
    {
     "data": {
      "text/html": [
       "<div>\n",
       "<table border=\"1\" class=\"dataframe\">\n",
       "  <thead>\n",
       "    <tr style=\"text-align: right;\">\n",
       "      <th></th>\n",
       "      <th>Actual Arrival Delay</th>\n",
       "      <th>Predicted Arrival Delay</th>\n",
       "    </tr>\n",
       "  </thead>\n",
       "  <tbody>\n",
       "    <tr>\n",
       "      <th>644130</th>\n",
       "      <td>-2.0</td>\n",
       "      <td>-11.736690</td>\n",
       "    </tr>\n",
       "    <tr>\n",
       "      <th>644131</th>\n",
       "      <td>26.0</td>\n",
       "      <td>22.191869</td>\n",
       "    </tr>\n",
       "    <tr>\n",
       "      <th>644132</th>\n",
       "      <td>2.0</td>\n",
       "      <td>8.506221</td>\n",
       "    </tr>\n",
       "    <tr>\n",
       "      <th>644133</th>\n",
       "      <td>-36.0</td>\n",
       "      <td>-24.022895</td>\n",
       "    </tr>\n",
       "    <tr>\n",
       "      <th>644134</th>\n",
       "      <td>24.0</td>\n",
       "      <td>29.209882</td>\n",
       "    </tr>\n",
       "    <tr>\n",
       "      <th>644135</th>\n",
       "      <td>-4.0</td>\n",
       "      <td>-7.625735</td>\n",
       "    </tr>\n",
       "    <tr>\n",
       "      <th>644136</th>\n",
       "      <td>30.0</td>\n",
       "      <td>26.188572</td>\n",
       "    </tr>\n",
       "    <tr>\n",
       "      <th>644137</th>\n",
       "      <td>11.0</td>\n",
       "      <td>7.215811</td>\n",
       "    </tr>\n",
       "    <tr>\n",
       "      <th>644138</th>\n",
       "      <td>3.0</td>\n",
       "      <td>-0.605247</td>\n",
       "    </tr>\n",
       "    <tr>\n",
       "      <th>644139</th>\n",
       "      <td>53.0</td>\n",
       "      <td>42.372415</td>\n",
       "    </tr>\n",
       "  </tbody>\n",
       "</table>\n",
       "</div>"
      ],
      "text/plain": [
       "        Actual Arrival Delay  Predicted Arrival Delay\n",
       "644130                  -2.0               -11.736690\n",
       "644131                  26.0                22.191869\n",
       "644132                   2.0                 8.506221\n",
       "644133                 -36.0               -24.022895\n",
       "644134                  24.0                29.209882\n",
       "644135                  -4.0                -7.625735\n",
       "644136                  30.0                26.188572\n",
       "644137                  11.0                 7.215811\n",
       "644138                   3.0                -0.605247\n",
       "644139                  53.0                42.372415"
      ]
     },
     "execution_count": 66,
     "metadata": {},
     "output_type": "execute_result"
    }
   ],
   "source": [
    "Predicted = pd.DataFrame(np.array(Y_test), columns=['Actual Arrival Delay'])\n",
    "Predicted['Predicted Arrival Delay'] = pred_test\n",
    "Predicted.tail(10)"
   ]
  },
  {
   "cell_type": "markdown",
   "metadata": {},
   "source": [
    "### Scatter Plot of the Residuals"
   ]
  },
  {
   "cell_type": "code",
   "execution_count": 67,
   "metadata": {
    "collapsed": false
   },
   "outputs": [
    {
     "data": {
      "image/png": "[encoded data removed]",
      "text/plain": [
       "<matplotlib.figure.Figure at 0xdfc9e80>"
      ]
     },
     "metadata": {},
     "output_type": "display_data"
    }
   ],
   "source": [
    "train = plt.scatter(pred_train,(Y_train-pred_train),c='b',alpha=0.5)\n",
    "\n",
    "# Scatter plot the testing data\n",
    "test = plt.scatter(pred_test,(Y_test-pred_test),c='r',alpha=0.5)\n",
    "\n",
    "# Plot a horizontal axis line at 0\n",
    "plt.hlines(y=0,xmin=-75,xmax=2200)\n",
    "\n",
    "#Labels\n",
    "plt.legend((train,test),('Training','Test'),loc='best')\n",
    "plt.title('Residual Plots')\n",
    "plt.show()"
   ]
  },
  {
   "cell_type": "markdown",
   "metadata": {},
   "source": [
    "### $2.\\:Logistic \\:Regression: \\:It \\:gives \\:binary \\:classification \\:if \\:the \\:flight \\:will \\:be \\:delayed \\:or \\:not$"
   ]
  },
  {
   "cell_type": "code",
   "execution_count": 68,
   "metadata": {
    "collapsed": false
   },
   "outputs": [],
   "source": [
    "from sklearn.linear_model import LogisticRegression"
   ]
  },
  {
   "cell_type": "code",
   "execution_count": 69,
   "metadata": {
    "collapsed": true
   },
   "outputs": [],
   "source": [
    "log_model = LogisticRegression()"
   ]
  },
  {
   "cell_type": "code",
   "execution_count": 70,
   "metadata": {
    "collapsed": false,
    "scrolled": true
   },
   "outputs": [
    {
     "data": {
      "text/html": [
       "<div>\n",
       "<table border=\"1\" class=\"dataframe\">\n",
       "  <thead>\n",
       "    <tr style=\"text-align: right;\">\n",
       "      <th></th>\n",
       "      <th>MONTH</th>\n",
       "      <th>DAY_OF_WEEK</th>\n",
       "      <th>ORIGIN</th>\n",
       "      <th>DEST</th>\n",
       "      <th>DEP_DELAY</th>\n",
       "      <th>AIR_TIME</th>\n",
       "      <th>DISTANCE</th>\n",
       "      <th>DEP_HOUR</th>\n",
       "      <th>ARR_HOUR</th>\n",
       "    </tr>\n",
       "  </thead>\n",
       "  <tbody>\n",
       "    <tr>\n",
       "      <th>0</th>\n",
       "      <td>1</td>\n",
       "      <td>4</td>\n",
       "      <td>2532</td>\n",
       "      <td>2934</td>\n",
       "      <td>-5.0</td>\n",
       "      <td>378.0</td>\n",
       "      <td>2475.0</td>\n",
       "      <td>8</td>\n",
       "      <td>12</td>\n",
       "    </tr>\n",
       "    <tr>\n",
       "      <th>1</th>\n",
       "      <td>1</td>\n",
       "      <td>5</td>\n",
       "      <td>2532</td>\n",
       "      <td>2934</td>\n",
       "      <td>-10.0</td>\n",
       "      <td>357.0</td>\n",
       "      <td>2475.0</td>\n",
       "      <td>8</td>\n",
       "      <td>12</td>\n",
       "    </tr>\n",
       "    <tr>\n",
       "      <th>2</th>\n",
       "      <td>1</td>\n",
       "      <td>6</td>\n",
       "      <td>2532</td>\n",
       "      <td>2934</td>\n",
       "      <td>-7.0</td>\n",
       "      <td>330.0</td>\n",
       "      <td>2475.0</td>\n",
       "      <td>8</td>\n",
       "      <td>11</td>\n",
       "    </tr>\n",
       "    <tr>\n",
       "      <th>3</th>\n",
       "      <td>1</td>\n",
       "      <td>7</td>\n",
       "      <td>2532</td>\n",
       "      <td>2934</td>\n",
       "      <td>-7.0</td>\n",
       "      <td>352.0</td>\n",
       "      <td>2475.0</td>\n",
       "      <td>8</td>\n",
       "      <td>12</td>\n",
       "    </tr>\n",
       "    <tr>\n",
       "      <th>4</th>\n",
       "      <td>1</td>\n",
       "      <td>1</td>\n",
       "      <td>2532</td>\n",
       "      <td>2934</td>\n",
       "      <td>-7.0</td>\n",
       "      <td>338.0</td>\n",
       "      <td>2475.0</td>\n",
       "      <td>8</td>\n",
       "      <td>12</td>\n",
       "    </tr>\n",
       "  </tbody>\n",
       "</table>\n",
       "</div>"
      ],
      "text/plain": [
       "   MONTH  DAY_OF_WEEK  ORIGIN  DEST  DEP_DELAY  AIR_TIME  DISTANCE  DEP_HOUR  \\\n",
       "0      1            4    2532  2934       -5.0     378.0    2475.0         8   \n",
       "1      1            5    2532  2934      -10.0     357.0    2475.0         8   \n",
       "2      1            6    2532  2934       -7.0     330.0    2475.0         8   \n",
       "3      1            7    2532  2934       -7.0     352.0    2475.0         8   \n",
       "4      1            1    2532  2934       -7.0     338.0    2475.0         8   \n",
       "\n",
       "   ARR_HOUR  \n",
       "0        12  \n",
       "1        12  \n",
       "2        11  \n",
       "3        12  \n",
       "4        12  "
      ]
     },
     "execution_count": 70,
     "metadata": {},
     "output_type": "execute_result"
    }
   ],
   "source": [
    "X_train.head()"
   ]
  },
  {
   "cell_type": "code",
   "execution_count": 71,
   "metadata": {
    "collapsed": true
   },
   "outputs": [],
   "source": [
    "def func(arr):\n",
    "    li = []\n",
    "    for item in arr:\n",
    "        if item > 15:\n",
    "            li.append(1)\n",
    "        else:\n",
    "            li.append(0)\n",
    "    return li\n",
    "            "
   ]
  },
  {
   "cell_type": "code",
   "execution_count": 72,
   "metadata": {
    "collapsed": false,
    "scrolled": true
   },
   "outputs": [
    {
     "data": {
      "text/plain": [
       "[0, 0, 0, 0, 0, 1, 0, 0, 0, 0, 0, 0, 0, 0, 0]"
      ]
     },
     "execution_count": 72,
     "metadata": {},
     "output_type": "execute_result"
    }
   ],
   "source": [
    "Y_train1 = func(df_trainData['ARR_DELAY'])\n",
    "Y_train1[:15]"
   ]
  },
  {
   "cell_type": "code",
   "execution_count": 73,
   "metadata": {
    "collapsed": false
   },
   "outputs": [
    {
     "data": {
      "text/plain": [
       "count    644140.000000\n",
       "mean         -0.932038\n",
       "std          36.638903\n",
       "min         -80.000000\n",
       "25%         -16.000000\n",
       "50%          -8.000000\n",
       "75%           3.000000\n",
       "max        1665.000000\n",
       "Name: ARR_DELAY, dtype: float64"
      ]
     },
     "execution_count": 73,
     "metadata": {},
     "output_type": "execute_result"
    }
   ],
   "source": [
    "df_testData['ARR_DELAY'].describe()"
   ]
  },
  {
   "cell_type": "code",
   "execution_count": 74,
   "metadata": {
    "collapsed": false
   },
   "outputs": [
    {
     "data": {
      "text/plain": [
       "[0, 0, 0, 0, 0, 0, 0, 0, 0, 1, 0, 0, 0, 0, 0]"
      ]
     },
     "execution_count": 74,
     "metadata": {},
     "output_type": "execute_result"
    }
   ],
   "source": [
    "Y_test1 = func(df_testData['ARR_DELAY'])\n",
    "Y_test1[:15]"
   ]
  },
  {
   "cell_type": "code",
   "execution_count": 75,
   "metadata": {
    "collapsed": false
   },
   "outputs": [
    {
     "data": {
      "text/plain": [
       "LogisticRegression(C=1.0, class_weight=None, dual=False, fit_intercept=True,\n",
       "          intercept_scaling=1, max_iter=100, multi_class='ovr', n_jobs=1,\n",
       "          penalty='l2', random_state=None, solver='liblinear', tol=0.0001,\n",
       "          verbose=0, warm_start=False)"
      ]
     },
     "execution_count": 75,
     "metadata": {},
     "output_type": "execute_result"
    }
   ],
   "source": [
    "log_model.fit(X_train, Y_train1)"
   ]
  },
  {
   "cell_type": "code",
   "execution_count": 76,
   "metadata": {
    "collapsed": false,
    "scrolled": true
   },
   "outputs": [],
   "source": [
    "pred_logistic = log_model.predict(X_test)"
   ]
  },
  {
   "cell_type": "code",
   "execution_count": 77,
   "metadata": {
    "collapsed": false,
    "scrolled": true
   },
   "outputs": [
    {
     "name": "stdout",
     "output_type": "stream",
     "text": [
      "Accuracy of Logistic Model: 0.946\n"
     ]
    }
   ],
   "source": [
    "print 'Accuracy of Logistic Model: %.3f'  % sklearn.metrics.accuracy_score(Y_test1, pred_logistic)"
   ]
  },
  {
   "cell_type": "markdown",
   "metadata": {},
   "source": [
    "### Random Predictions"
   ]
  },
  {
   "cell_type": "code",
   "execution_count": 78,
   "metadata": {
    "collapsed": false
   },
   "outputs": [
    {
     "data": {
      "text/html": [
       "<div>\n",
       "<table border=\"1\" class=\"dataframe\">\n",
       "  <thead>\n",
       "    <tr style=\"text-align: right;\">\n",
       "      <th></th>\n",
       "      <th>Actual Delay Status</th>\n",
       "      <th>Predicted Delay Status</th>\n",
       "    </tr>\n",
       "  </thead>\n",
       "  <tbody>\n",
       "    <tr>\n",
       "      <th>644130</th>\n",
       "      <td>0</td>\n",
       "      <td>0</td>\n",
       "    </tr>\n",
       "    <tr>\n",
       "      <th>644131</th>\n",
       "      <td>1</td>\n",
       "      <td>1</td>\n",
       "    </tr>\n",
       "    <tr>\n",
       "      <th>644132</th>\n",
       "      <td>0</td>\n",
       "      <td>0</td>\n",
       "    </tr>\n",
       "    <tr>\n",
       "      <th>644133</th>\n",
       "      <td>0</td>\n",
       "      <td>0</td>\n",
       "    </tr>\n",
       "    <tr>\n",
       "      <th>644134</th>\n",
       "      <td>1</td>\n",
       "      <td>1</td>\n",
       "    </tr>\n",
       "    <tr>\n",
       "      <th>644135</th>\n",
       "      <td>0</td>\n",
       "      <td>0</td>\n",
       "    </tr>\n",
       "    <tr>\n",
       "      <th>644136</th>\n",
       "      <td>1</td>\n",
       "      <td>1</td>\n",
       "    </tr>\n",
       "    <tr>\n",
       "      <th>644137</th>\n",
       "      <td>0</td>\n",
       "      <td>0</td>\n",
       "    </tr>\n",
       "    <tr>\n",
       "      <th>644138</th>\n",
       "      <td>0</td>\n",
       "      <td>0</td>\n",
       "    </tr>\n",
       "    <tr>\n",
       "      <th>644139</th>\n",
       "      <td>1</td>\n",
       "      <td>1</td>\n",
       "    </tr>\n",
       "  </tbody>\n",
       "</table>\n",
       "</div>"
      ],
      "text/plain": [
       "        Actual Delay Status  Predicted Delay Status\n",
       "644130                    0                       0\n",
       "644131                    1                       1\n",
       "644132                    0                       0\n",
       "644133                    0                       0\n",
       "644134                    1                       1\n",
       "644135                    0                       0\n",
       "644136                    1                       1\n",
       "644137                    0                       0\n",
       "644138                    0                       0\n",
       "644139                    1                       1"
      ]
     },
     "execution_count": 78,
     "metadata": {},
     "output_type": "execute_result"
    }
   ],
   "source": [
    "Predicted2 = pd.DataFrame(np.array(Y_test1), columns=['Actual Delay Status'])\n",
    "Predicted2['Predicted Delay Status'] = pred_logistic\n",
    "Predicted2.tail(10)"
   ]
  },
  {
   "cell_type": "markdown",
   "metadata": {},
   "source": [
    "### $Logistic\\:Regression\\:Model \\:can \\:predict \\:more \\:accurately,\\:with\\:the \\:accuracy\\:of \\:94.6 \\% $"
   ]
  }
 ],
 "metadata": {
  "kernelspec": {
   "display_name": "Python 2",
   "language": "python",
   "name": "python2"
  },
  "language_info": {
   "codemirror_mode": {
    "name": "ipython",
    "version": 2
   },
   "file_extension": ".py",
   "mimetype": "text/x-python",
   "name": "python",
   "nbconvert_exporter": "python",
   "pygments_lexer": "ipython2",
   "version": "2.7.11"
  }
 },
 "nbformat": 4,
 "nbformat_minor": 0
}
